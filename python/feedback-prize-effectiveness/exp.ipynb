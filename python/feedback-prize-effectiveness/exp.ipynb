{
 "cells": [
  {
   "attachments": {},
   "cell_type": "markdown",
   "metadata": {
    "pycharm": {
     "name": "#%% md\n"
    }
   },
   "source": [
    "# 问题\n",
    "\n",
    "- [x] 长文本截断时尽量保留首尾，效果不怎么样。。。\n",
    "- [ ] 在上面的基础上考虑双向lstm\n",
    "- [x] 采用将类别添加到text头部的方式\n",
    "- [ ] summaryWriter版本问题\n",
    "- [x] 损失函数应为交叉损失，而不是BCELoss，这是用于多标签的\n",
    "- [x] iter可以被设置设备，所以训练时不用再to(device)，可以用batch.text.device查看是否正确。对于模型，next(model.parameters()).device\n",
    "- [x] ~~field有问题~~。预先数字化，再设置use_vocab=False\n",
    "- [ ] test相关代码还没写\n",
    "- [x] ~~生成iter时会将df的头部也当作数据传进处理中，所以会导致列名'type'也传进了处理函数中~~。data.TabularDataset(skip_header=True)\n",
    "- [ ] text生成有问题"
   ]
  },
  {
   "cell_type": "code",
   "execution_count": null,
   "metadata": {
    "pycharm": {
     "is_executing": true
    }
   },
   "outputs": [],
   "source": [
    "#!pip show torch torchtext"
   ]
  },
  {
   "cell_type": "code",
   "execution_count": 1,
   "metadata": {},
   "outputs": [],
   "source": [
    "import numpy as np\n",
    "import pandas as pd\n",
    "\n",
    "import matplotlib.pyplot as plt\n",
    "from matplotlib.patches import Rectangle  #变色\n",
    "% matplotlib inline\n",
    "\n",
    "import torchtext\n",
    "from torchtext.legacy import data\n",
    "\n",
    "import torch\n",
    "from torch import nn, optim\n",
    "import torch.nn.functional as F\n",
    "from torch.cuda import amp\n",
    "\n",
    "from sklearn.model_selection import StratifiedKFold, StratifiedGroupKFold\n",
    "\n",
    "#from torch.utils.tensorboard import SummaryWriter\n",
    "\n",
    "#from transformers import TrainingArguments,Trainer\n",
    "#from transformers import AutoModelForSequenceClassification,AutoTokenizer\n",
    "\n",
    "import os\n",
    "import re\n",
    "import gc  #垃圾回收\n",
    "\n",
    "from tqdm import tqdm  #进度条 for data in tqdm(range(100))"
   ]
  },
  {
   "cell_type": "code",
   "execution_count": 9,
   "outputs": [
    {
     "name": "stdout",
     "output_type": "stream",
     "text": [
      "inputData size:  torch.Size([64, 10])\n",
      "encode out size:  torch.Size([64, 10, 128])\n",
      "encode h size:  torch.Size([1, 64, 128])\n",
      ",encode c size:  torch.Size([1, 64, 128])\n",
      "decode out shape:  torch.Size([64, 10, 10000])\n"
     ]
    }
   ],
   "source": [
    "import torch\n",
    "import torch.nn as nn\n",
    "\n",
    "# 定义模型参数\n",
    "vocab_size = 10000  # 词汇表大小\n",
    "max_sequence_length = 10  # 句子长度\n",
    "embedding_dim = 32\n",
    "hidden_units = 128\n",
    "batch_size = 64\n",
    "\n",
    "\n",
    "# 定义编码器\n",
    "class Encoder(nn.Module):\n",
    "    def __init__(self):\n",
    "        super(Encoder, self).__init__()\n",
    "        self.embedding = nn.Embedding(vocab_size, embedding_dim)\n",
    "        self.lstm = nn.LSTM(embedding_dim, hidden_units, batch_first=True)\n",
    "\n",
    "    def forward(self, x):\n",
    "        x = self.embedding(x)\n",
    "        encoder_outputs, (encoder_state_h, encoder_state_c) = self.lstm(x)\n",
    "        return encoder_outputs, encoder_state_h, encoder_state_c\n",
    "\n",
    "\n",
    "# 定义解码器\n",
    "class Decoder(nn.Module):\n",
    "    def __init__(self):\n",
    "        super(Decoder, self).__init__()\n",
    "        self.embedding = nn.Embedding(vocab_size, embedding_dim)\n",
    "        self.lstm = nn.LSTM(embedding_dim, hidden_units, batch_first=True)\n",
    "        self.attention = nn.Linear(hidden_units, hidden_units)\n",
    "        self.out = nn.Linear(hidden_units, vocab_size)\n",
    "\n",
    "    def forward(self, x, encoder_outputs, encoder_state_h):\n",
    "        x = self.embedding(x)\n",
    "        decoder_outputs, _ = self.lstm(x, (encoder_state_h, encoder_state_h))\n",
    "\n",
    "        # 注意力机制\n",
    "        attn_scores = torch.matmul(decoder_outputs, encoder_outputs.permute(0, 2, 1))\n",
    "        attn_weights = torch.nn.functional.softmax(attn_scores, dim=-1)\n",
    "        context = torch.matmul(attn_weights, encoder_outputs)\n",
    "        decoder_outputs = decoder_outputs + context\n",
    "\n",
    "        decoder_outputs = self.out(decoder_outputs)\n",
    "\n",
    "        return decoder_outputs\n",
    "\n",
    "\n",
    "# 定义Seq2Seq模型\n",
    "class Seq2Seq(nn.Module):\n",
    "    def __init__(self, encoder, decoder):\n",
    "        super(Seq2Seq, self).__init__()\n",
    "        self.encoder = encoder\n",
    "        self.decoder = decoder\n",
    "\n",
    "    def forward(self, encoder_inputs, decoder_inputs):\n",
    "        encoder_outputs, encoder_state_h, encoder_state_c = self.encoder(encoder_inputs)\n",
    "        decoder_outputs = self.decoder(decoder_inputs, encoder_outputs, encoder_state_h)\n",
    "        return decoder_outputs\n",
    "\n",
    "\n",
    "# 创建编码器和解码器\n",
    "encoder = Encoder()\n",
    "decoder = Decoder()\n",
    "\n",
    "# 创建Seq2Seq模型\n",
    "model = Seq2Seq(encoder, decoder)\n",
    "\n",
    "\n",
    "@torch.no_grad()\n",
    "def a():\n",
    "    inputData = torch.randint(0, 1000, (batch_size, max_sequence_length))\n",
    "    print(\"inputData size: \", inputData.shape)\n",
    "\n",
    "    encodeRes = encoder(inputData)\n",
    "    print(\"encode out size: \", encodeRes[0].shape)\n",
    "    print(\"encode h size: \", encodeRes[1].shape)\n",
    "    print(\",encode c size: \", encodeRes[2].shape)\n",
    "\n",
    "    inputDataD = torch.randint(0, 1000, (batch_size, max_sequence_length))\n",
    "    decodeRes = decoder(inputDataD, encodeRes[0], encodeRes[1])\n",
    "\n",
    "    print(\"decode out shape: \", decodeRes.shape)\n",
    "\n",
    "\n",
    "a()"
   ],
   "metadata": {
    "collapsed": false,
    "pycharm": {
     "name": "#%%\n"
    }
   }
  },
  {
   "attachments": {},
   "cell_type": "markdown",
   "metadata": {},
   "source": [
    "# 数据查看"
   ]
  },
  {
   "cell_type": "code",
   "execution_count": 6,
   "metadata": {},
   "outputs": [],
   "source": [
    "data_dir = \"E:/DATA/feedback-prize-effectiveness/\""
   ]
  },
  {
   "cell_type": "code",
   "execution_count": 7,
   "metadata": {},
   "outputs": [
    {
     "name": "stdout",
     "output_type": "stream",
     "text": [
      "   discourse_id      essay_id  \\\n",
      "0  0013cc385424  007ACE74B050   \n",
      "1  9704a709b505  007ACE74B050   \n",
      "2  c22adee811b6  007ACE74B050   \n",
      "3  a10d361e54e4  007ACE74B050   \n",
      "4  db3e453ec4e2  007ACE74B050   \n",
      "\n",
      "                                      discourse_text discourse_type  \\\n",
      "0  Hi, i'm Isaac, i'm going to be writing about h...           Lead   \n",
      "1  On my perspective, I think that the face is a ...       Position   \n",
      "2  I think that the face is a natural landform be...          Claim   \n",
      "3  If life was on Mars, we would know by now. The...       Evidence   \n",
      "4  People thought that the face was formed by ali...   Counterclaim   \n",
      "\n",
      "  discourse_effectiveness  \n",
      "0                Adequate  \n",
      "1                Adequate  \n",
      "2                Adequate  \n",
      "3                Adequate  \n",
      "4                Adequate  \n",
      "Hi, i'm Isaac, i'm going to be writing about how this face on Mars is a natural landform or if there is life on Mars that made it. The story is about how NASA took a picture of Mars and a face was seen on the planet. NASA doesn't know if the landform was created by life on Mars, or if it is just a natural landform. \n",
      "36765\n"
     ]
    }
   ],
   "source": [
    "df1 = pd.read_csv(data_dir + \"train.csv\")\n",
    "print(df1.head())\n",
    "print(df1.iloc[0]['discourse_text'])\n",
    "print(len(df1))\n",
    "#essay_id   txt文件名\n",
    "#discourse_id   段落的id，应该没用"
   ]
  },
  {
   "cell_type": "code",
   "execution_count": 8,
   "metadata": {},
   "outputs": [
    {
     "data": {
      "text/plain": "discourse_id               0\nessay_id                   0\ndiscourse_text             0\ndiscourse_type             0\ndiscourse_effectiveness    0\ndtype: int64"
     },
     "execution_count": 8,
     "metadata": {},
     "output_type": "execute_result"
    }
   ],
   "source": [
    "df1.isna().sum()"
   ]
  },
  {
   "cell_type": "code",
   "execution_count": 10,
   "metadata": {},
   "outputs": [
    {
     "data": {
      "text/html": [
       "<div>\n",
       "<style scoped>\n",
       "    .dataframe tbody tr th:only-of-type {\n",
       "        vertical-align: middle;\n",
       "    }\n",
       "\n",
       "    .dataframe tbody tr th {\n",
       "        vertical-align: top;\n",
       "    }\n",
       "\n",
       "    .dataframe thead th {\n",
       "        text-align: right;\n",
       "    }\n",
       "</style>\n",
       "<table border=\"1\" class=\"dataframe\">\n",
       "  <thead>\n",
       "    <tr style=\"text-align: right;\">\n",
       "      <th></th>\n",
       "      <th>discourse_type</th>\n",
       "    </tr>\n",
       "  </thead>\n",
       "  <tbody>\n",
       "    <tr>\n",
       "      <th>0</th>\n",
       "      <td>Claim</td>\n",
       "    </tr>\n",
       "    <tr>\n",
       "      <th>1</th>\n",
       "      <td>Concluding Statement</td>\n",
       "    </tr>\n",
       "    <tr>\n",
       "      <th>2</th>\n",
       "      <td>Counterclaim</td>\n",
       "    </tr>\n",
       "    <tr>\n",
       "      <th>3</th>\n",
       "      <td>Evidence</td>\n",
       "    </tr>\n",
       "    <tr>\n",
       "      <th>4</th>\n",
       "      <td>Lead</td>\n",
       "    </tr>\n",
       "    <tr>\n",
       "      <th>5</th>\n",
       "      <td>Position</td>\n",
       "    </tr>\n",
       "    <tr>\n",
       "      <th>6</th>\n",
       "      <td>Rebuttal</td>\n",
       "    </tr>\n",
       "  </tbody>\n",
       "</table>\n",
       "</div>"
      ],
      "text/plain": [
       "         discourse_type\n",
       "0                 Claim\n",
       "1  Concluding Statement\n",
       "2          Counterclaim\n",
       "3              Evidence\n",
       "4                  Lead\n",
       "5              Position\n",
       "6              Rebuttal"
      ]
     },
     "execution_count": 10,
     "metadata": {},
     "output_type": "execute_result"
    }
   ],
   "source": [
    "df1[['discourse_type']].apply(np.unique)"
   ]
  },
  {
   "cell_type": "code",
   "execution_count": 11,
   "metadata": {},
   "outputs": [
    {
     "data": {
      "text/html": [
       "<div>\n",
       "<style scoped>\n",
       "    .dataframe tbody tr th:only-of-type {\n",
       "        vertical-align: middle;\n",
       "    }\n",
       "\n",
       "    .dataframe tbody tr th {\n",
       "        vertical-align: top;\n",
       "    }\n",
       "\n",
       "    .dataframe thead th {\n",
       "        text-align: right;\n",
       "    }\n",
       "</style>\n",
       "<table border=\"1\" class=\"dataframe\">\n",
       "  <thead>\n",
       "    <tr style=\"text-align: right;\">\n",
       "      <th></th>\n",
       "      <th>discourse_effectiveness</th>\n",
       "    </tr>\n",
       "  </thead>\n",
       "  <tbody>\n",
       "    <tr>\n",
       "      <th>0</th>\n",
       "      <td>Adequate</td>\n",
       "    </tr>\n",
       "    <tr>\n",
       "      <th>1</th>\n",
       "      <td>Effective</td>\n",
       "    </tr>\n",
       "    <tr>\n",
       "      <th>2</th>\n",
       "      <td>Ineffective</td>\n",
       "    </tr>\n",
       "  </tbody>\n",
       "</table>\n",
       "</div>"
      ],
      "text/plain": [
       "  discourse_effectiveness\n",
       "0                Adequate\n",
       "1               Effective\n",
       "2             Ineffective"
      ]
     },
     "execution_count": 11,
     "metadata": {},
     "output_type": "execute_result"
    }
   ],
   "source": [
    "df1[['discourse_effectiveness']].apply(np.unique)"
   ]
  },
  {
   "cell_type": "code",
   "execution_count": 6,
   "metadata": {},
   "outputs": [
    {
     "name": "stdout",
     "output_type": "stream",
     "text": [
      "   discourse_id      essay_id  \\\n",
      "0  a261b6e14276  D72CB1C11673   \n",
      "1  5a88900e7dc1  D72CB1C11673   \n",
      "2  9790d835736b  D72CB1C11673   \n",
      "3  75ce6d68b67b  D72CB1C11673   \n",
      "4  93578d946723  D72CB1C11673   \n",
      "\n",
      "                                      discourse_text discourse_type  \n",
      "0  Making choices in life can be very difficult. ...           Lead  \n",
      "1  Seeking multiple opinions can help a person ma...       Position  \n",
      "2                     it can decrease stress levels           Claim  \n",
      "3             a great chance to learn something new           Claim  \n",
      "4               can be very helpful and beneficial.           Claim  \n",
      "Making choices in life can be very difficult. People often ask for advice when they can not decide on one thing. It's always good to ask others for their advice when making a choice. When you have multiple opinions you have the ability to make the best choice for yourself. \n",
      "10\n"
     ]
    }
   ],
   "source": [
    "df2 = pd.read_csv(data_dir + \"test.csv\")\n",
    "print(df2.head())\n",
    "print(df2.iloc[0]['discourse_text'])\n",
    "print(len(df2))"
   ]
  },
  {
   "cell_type": "code",
   "execution_count": 7,
   "metadata": {},
   "outputs": [
    {
     "data": {
      "text/plain": [
       "discourse_id      0\n",
       "essay_id          0\n",
       "discourse_text    0\n",
       "discourse_type    0\n",
       "dtype: int64"
      ]
     },
     "execution_count": 7,
     "metadata": {},
     "output_type": "execute_result"
    }
   ],
   "source": [
    "df2.isna().sum()"
   ]
  },
  {
   "cell_type": "code",
   "execution_count": 39,
   "metadata": {},
   "outputs": [
    {
     "name": "stdout",
     "output_type": "stream",
     "text": [
      "Dear: Principal\n",
      "\n",
      "I am arguing against the policy change because even though there are some children out there that really needs help with their academic work, that does not mean that only because they have a c average that would not let them enjoy their sports or other activities unless they've a B average.\n",
      "\n",
      "Sometimes teachers or even principal needs to consider that we should give the help that any student should have. Also this may consider student self as steam. Meaning student would start to feel sad nervous, and not wanting to go to school because of the reason they have a low averages and they can not participate in other activities or sports. The fact that there are children that would want to enjoy many good things the school is actually giving it to them.\n",
      "\n",
      "We would want to make changes as, \"like to be a better person for a better tomorrow\" This supports the idea of having have many good thoughts and incasing your work as much as possible. In some situation like arguing we should make a vote to see if kids would want to have a school policy of change and having to participate in fun activities but they first need to have at least a B average. Some reasons I would be against the school policy change is because you would feel ashame and then many bad things could happen meaning, you would be angry etc. In additionally , I think that student should have sports because it helps them with their health, and problems that they would have personal. I am against this policy change.\n",
      "\n",
      "Sincerely,\n",
      "\n",
      "Student.\n",
      "-------\n",
      "Dear Florida senator,\n",
      "\n",
      "I would like disuss why changing up the way we voyte today is not as bad f an idea as it sounds. Changing to elections by a popular vote sounds like its in the peoples hands instead of juts casting out votes on the slate electors. Aren't we voting for our president. innstead of countting onn the electoral votes to hep out or, go against out favor, it'd be much more easier to just let the people vote.\n",
      "\n",
      "The elctoral votes are utterly useless or unimportant,though. If there is ever happens to be a tie between the two candidates the electoral votes can help break it. It'd be less of a hassle to have the florida residents vote,directly, on someone besides the president. Less worring about if theyre going to win or not. Now when you start to think about it the electoral college is just unfair an pretty outdated,if you ask me. Change doesn't sound that bad. All im trying to achive by writting this, is to gain actual control over who we're all voting for.\n",
      "\n",
      "It's also not just what's completely wrong with the electoral college but how does it help in the first place? When you start analizing it, it really doens't help much. How much actual help can the lectora coellge make, in my defense not much. Why? Simple, its just 20-30 more votes and not many states have that much Hawaii has uop to 4 electoral votes, not much. Voters should be alowed to directly vote for who they want to be president and not rely on the lectoral college.    \n"
     ]
    }
   ],
   "source": [
    "with open(data_dir + \"/train/000E6DE9E817.txt\") as f:\n",
    "    print(f.read())\n",
    "print(\"-------\")\n",
    "with open(data_dir + \"/train/00B144412785.txt\") as f:\n",
    "    print(f.read())"
   ]
  },
  {
   "cell_type": "code",
   "execution_count": 42,
   "metadata": {},
   "outputs": [
    {
     "name": "stdout",
     "output_type": "stream",
     "text": [
      "836 1 44.75033319733442 28.0\n"
     ]
    }
   ],
   "source": [
    "df1['wordcount'] = df1['discourse_text'].apply(\n",
    "    lambda x: len(list(filter(None, re.split(r\"[\\n|\\s|,|!|.|?]\", x))))\n",
    ")\n",
    "print(\n",
    "    np.max(df1['wordcount']), np.min(df1['wordcount']),\n",
    "    np.average(df1['wordcount']), np.median(df1['wordcount'])\n",
    ")"
   ]
  },
  {
   "cell_type": "code",
   "execution_count": 45,
   "metadata": {},
   "outputs": [
    {
     "data": {
      "image/png": "[encoded data removed]",
      "text/plain": [
       "<Figure size 640x480 with 4 Axes>"
      ]
     },
     "metadata": {},
     "output_type": "display_data"
    }
   ],
   "source": [
    "plt.subplot(221)\n",
    "plt.hist(x=list(df1['wordcount']), bins=80)\n",
    "plt.subplot(222)\n",
    "plt.hist(x=list(df1[df1['wordcount'] <= 200]['wordcount']), bins=40)\n",
    "plt.subplot(223)\n",
    "plt.bar(x=[0, 1], height=[len(df1[df1['wordcount'] <= 50]), len(df1[df1['wordcount'] > 50])])\n",
    "plt.subplot(224)\n",
    "plt.bar(x=[0, 1], height=[len(df1[df1['wordcount'] <= 128]), len(df1[df1['wordcount'] > 128])])\n",
    "plt.show()\n",
    "\n",
    "#考虑到这是论述文，所以开头结尾比较重要，数据处理时需要考虑到"
   ]
  },
  {
   "cell_type": "code",
   "execution_count": 65,
   "metadata": {},
   "outputs": [
    {
     "data": {
      "text/html": [
       "<div>\n",
       "<style scoped>\n",
       "    .dataframe tbody tr th:only-of-type {\n",
       "        vertical-align: middle;\n",
       "    }\n",
       "\n",
       "    .dataframe tbody tr th {\n",
       "        vertical-align: top;\n",
       "    }\n",
       "\n",
       "    .dataframe thead th {\n",
       "        text-align: right;\n",
       "    }\n",
       "</style>\n",
       "<table border=\"1\" class=\"dataframe\">\n",
       "  <thead>\n",
       "    <tr style=\"text-align: right;\">\n",
       "      <th></th>\n",
       "      <th>discourse_id</th>\n",
       "      <th>essay_id</th>\n",
       "      <th>discourse_text</th>\n",
       "      <th>discourse_type</th>\n",
       "      <th>discourse_effectiveness</th>\n",
       "      <th>wordcount</th>\n",
       "    </tr>\n",
       "  </thead>\n",
       "  <tbody>\n",
       "    <tr>\n",
       "      <th>11</th>\n",
       "      <td>cc921c5cfda4</td>\n",
       "      <td>00944C693682</td>\n",
       "      <td>stress.</td>\n",
       "      <td>Claim</td>\n",
       "      <td>Adequate</td>\n",
       "      <td>1</td>\n",
       "    </tr>\n",
       "    <tr>\n",
       "      <th>452</th>\n",
       "      <td>1ab1030c639a</td>\n",
       "      <td>0A5B8761B187</td>\n",
       "      <td>Disagree</td>\n",
       "      <td>Position</td>\n",
       "      <td>Ineffective</td>\n",
       "      <td>1</td>\n",
       "    </tr>\n",
       "    <tr>\n",
       "      <th>1397</th>\n",
       "      <td>210f8f088aa4</td>\n",
       "      <td>1B4E66B0BE0A</td>\n",
       "      <td>pollution.</td>\n",
       "      <td>Claim</td>\n",
       "      <td>Adequate</td>\n",
       "      <td>1</td>\n",
       "    </tr>\n",
       "    <tr>\n",
       "      <th>1571</th>\n",
       "      <td>e18b753a740a</td>\n",
       "      <td>1DC6485ABFF6</td>\n",
       "      <td>interest,</td>\n",
       "      <td>Claim</td>\n",
       "      <td>Ineffective</td>\n",
       "      <td>1</td>\n",
       "    </tr>\n",
       "    <tr>\n",
       "      <th>1572</th>\n",
       "      <td>91b5849cdbed</td>\n",
       "      <td>1DC6485ABFF6</td>\n",
       "      <td>funds/workers.</td>\n",
       "      <td>Claim</td>\n",
       "      <td>Ineffective</td>\n",
       "      <td>1</td>\n",
       "    </tr>\n",
       "    <tr>\n",
       "      <th>2907</th>\n",
       "      <td>6826ef3d5b63</td>\n",
       "      <td>34C979F3ABAA</td>\n",
       "      <td>promoting</td>\n",
       "      <td>Claim</td>\n",
       "      <td>Ineffective</td>\n",
       "      <td>1</td>\n",
       "    </tr>\n",
       "    <tr>\n",
       "      <th>2908</th>\n",
       "      <td>461645ee618c</td>\n",
       "      <td>34C979F3ABAA</td>\n",
       "      <td>protection</td>\n",
       "      <td>Claim</td>\n",
       "      <td>Adequate</td>\n",
       "      <td>1</td>\n",
       "    </tr>\n",
       "    <tr>\n",
       "      <th>2909</th>\n",
       "      <td>439210ca27fb</td>\n",
       "      <td>34C979F3ABAA</td>\n",
       "      <td>bills</td>\n",
       "      <td>Claim</td>\n",
       "      <td>Adequate</td>\n",
       "      <td>1</td>\n",
       "    </tr>\n",
       "    <tr>\n",
       "      <th>3456</th>\n",
       "      <td>aa83e041a0aa</td>\n",
       "      <td>3E866ECC376A</td>\n",
       "      <td>enthusiastic,</td>\n",
       "      <td>Claim</td>\n",
       "      <td>Effective</td>\n",
       "      <td>1</td>\n",
       "    </tr>\n",
       "    <tr>\n",
       "      <th>4539</th>\n",
       "      <td>8ced2bb31129</td>\n",
       "      <td>50F1D8786126</td>\n",
       "      <td>emotions</td>\n",
       "      <td>Claim</td>\n",
       "      <td>Adequate</td>\n",
       "      <td>1</td>\n",
       "    </tr>\n",
       "  </tbody>\n",
       "</table>\n",
       "</div>"
      ],
      "text/plain": [
       "      discourse_id      essay_id   discourse_text discourse_type  \\\n",
       "11    cc921c5cfda4  00944C693682         stress.           Claim   \n",
       "452   1ab1030c639a  0A5B8761B187        Disagree        Position   \n",
       "1397  210f8f088aa4  1B4E66B0BE0A      pollution.           Claim   \n",
       "1571  e18b753a740a  1DC6485ABFF6       interest,           Claim   \n",
       "1572  91b5849cdbed  1DC6485ABFF6  funds/workers.           Claim   \n",
       "2907  6826ef3d5b63  34C979F3ABAA       promoting           Claim   \n",
       "2908  461645ee618c  34C979F3ABAA      protection           Claim   \n",
       "2909  439210ca27fb  34C979F3ABAA           bills           Claim   \n",
       "3456  aa83e041a0aa  3E866ECC376A   enthusiastic,           Claim   \n",
       "4539  8ced2bb31129  50F1D8786126        emotions           Claim   \n",
       "\n",
       "     discourse_effectiveness  wordcount  \n",
       "11                  Adequate          1  \n",
       "452              Ineffective          1  \n",
       "1397                Adequate          1  \n",
       "1571             Ineffective          1  \n",
       "1572             Ineffective          1  \n",
       "2907             Ineffective          1  \n",
       "2908                Adequate          1  \n",
       "2909                Adequate          1  \n",
       "3456               Effective          1  \n",
       "4539                Adequate          1  "
      ]
     },
     "execution_count": 65,
     "metadata": {},
     "output_type": "execute_result"
    }
   ],
   "source": [
    "df1[df1['wordcount'] == 1].head(10)"
   ]
  },
  {
   "attachments": {},
   "cell_type": "markdown",
   "metadata": {},
   "source": [
    "# RNN\n",
    "\n",
    "## 数据基本处理\n",
    "\n",
    "1. 一般语言处理中对全部数据只会取常用的n个词，在此之外的词是不认识的，即先有一本字典\n",
    "\n",
    "2. 用one-hot编码时，每个词都表示为长n的向量，其中只有一个值是1，其余全是0。\n",
    "   比如字典的第i（0开始）个单词其one-hot编码中1值的下标是i\n",
    "\n",
    "## embedding\n",
    "\n",
    "1. one_hot编码稀疏，所以考虑用稠密向量表示词，比如只用长为m（m<n）的向量表示n个单词，其中单词间关系可以体现在向量间关系中，比如$\\vec{男}+\\vec{国王}=\\vec{皇帝}$\n",
    "\n",
    "2. 可由embedding层实现这个，embedding记录了一个(n,m)的矩阵，每行都是一个单词的稠密向量，作用是one-hot编码的向量按照其1值的下标i访问这个矩阵第i行，取出这行向量作为新输入\n",
    "   \n",
    "3. 具体使用看下面代码说明\n",
    "   \n",
    "4. embedding可自行训练出，也可预加载预训练参数。使用预训练参数时，冻结此层\n",
    "\n",
    "## 初步结果\n",
    "\n",
    "将batch_size\\*len_sentences\\*n变为batch_size\\*len_sentences\\*m\n",
    "\n",
    "## rnn具体流程\n",
    "\n",
    "1. 首先初始化hadden_input为全0\n",
    "   \n",
    "2. 对每个词，其经过线性层后都会和当前的hadden_input结合(cat或add)并进行一步激活（tanh）运算，所得的输出作为新的hadden_input作为下一个词的初始hadden_input\n",
    "   \n",
    "3. cat（最后一维）的话，需要截断，或者另外卷积一次获得新hadden_input\n",
    "   \n",
    "4. pytorch的rnn为x[i]通过一liner，hidden通过一liner，两个结果相加经Tanh激活，结果作为新hidden，具体见下面代码"
   ]
  },
  {
   "cell_type": "code",
   "execution_count": 28,
   "metadata": {},
   "outputs": [
    {
     "name": "stdout",
     "output_type": "stream",
     "text": [
      "before embedding:torch.Size([4, 20])\n",
      "after embedding:torch.Size([4, 20, 8])\n",
      "-------------\n",
      "rnn input:torch.Size([20, 4, 8])\n",
      "rnn out:torch.Size([20, 4, 128])\n",
      "rnn outh:torch.Size([4, 128])\n",
      "-----------\n",
      "finally shape:torch.Size([4, 2])\n",
      "tensor([[0.5867, 0.4133],\n",
      "        [0.3925, 0.6075],\n",
      "        [0.4375, 0.5625],\n",
      "        [0.4605, 0.5395]], grad_fn=<SoftmaxBackward>)\n"
     ]
    }
   ],
   "source": [
    "# rnn内部细节\n",
    "batch_size = 4\n",
    "sentence_len = 20  #一句话20个词\n",
    "words_num = 100  #字典记录了100个词\n",
    "vector_len = 8  #字典的每个词向量长8\n",
    "X = torch.randint(0, words_num, [batch_size, sentence_len])  #注意输入不为one-hot，只是每个词的字典序号，比如[3,2,10]表示一句话。int\n",
    "y = torch.as_tensor([[0., 1], [0, 1], [1, 0], [1, 0]])\n",
    "#print(X)\n",
    "\n",
    "hidden_layer_num = 1  #多少个hidden用于循环，即多少个循环部分\n",
    "\n",
    "\n",
    "class MyRNN(nn.Module):\n",
    "    def __init__(self):\n",
    "        super().__init__()\n",
    "\n",
    "        self.hidden_size = 128\n",
    "        self.embedding_layer = nn.Embedding(words_num, vector_len, padding_idx=0)  #100*8,padding_idx为输入长度不够时填充的字典词序号\n",
    "\n",
    "        #一个循环节\n",
    "        self.hidden_layer_x = nn.Linear(vector_len, self.hidden_size)  #rnn关键部分\n",
    "        self.hidden_layer_h = nn.Linear(self.hidden_size, self.hidden_size)  #给h用\n",
    "\n",
    "        #分类器\n",
    "        self.out_layer = nn.Linear(self.hidden_size, 2)\n",
    "        self.activation_layer = nn.Softmax(dim=-1)  #dim=0表示a[i][j][k]按i方向的几个数一起算\n",
    "\n",
    "    def __init_hidden(self):\n",
    "        return torch.zeros([hidden_layer_num, batch_size, self.hidden_size])\n",
    "\n",
    "    def forward(self, x):\n",
    "        self.hidden = self.__init_hidden()\n",
    "\n",
    "        print(f\"before embedding:{x.shape}\")  #[4, 20]\n",
    "        x = self.embedding_layer(x)\n",
    "        print(f\"after embedding:{x.shape}\")  #[4, 20, 8]\n",
    "        print(\"-------------\")\n",
    "\n",
    "        out = torch.zeros([sentence_len, batch_size, self.hidden_size])\n",
    "\n",
    "        #rnn部分\n",
    "        # 为了更好计算，将数据x变形为为len_sencentces*batch_size*words_num\n",
    "        # 即x[0]为各句子首单词\n",
    "        x = x.transpose(0, 1)\n",
    "        print(f\"rnn input:{x.shape}\")  #[20, 4, 128]\n",
    "        for i in range(x.shape[0]):\n",
    "            a1 = self.hidden_layer_x(x[i])\n",
    "            a2 = self.hidden_layer_h(self.hidden[0])\n",
    "\n",
    "            out[i] = self.hidden[0] = nn.Tanh()(a1 + a2)\n",
    "        print(f\"rnn out:{out.shape}\")\n",
    "        print(f\"rnn outh:{self.hidden[0].shape}\")\n",
    "        print(\"-----------\")\n",
    "\n",
    "        #分类器\n",
    "        o = self.hidden[0]  #即out[x.shape[0]-1]\n",
    "        o = self.out_layer(o)\n",
    "        o = self.activation_layer(o)\n",
    "        print(f\"finally shape:{o.shape}\")  #[4, 2]\n",
    "        print(o)\n",
    "\n",
    "        return o\n",
    "\n",
    "\n",
    "rnn = MyRNN()\n",
    "out = rnn(X)"
   ]
  },
  {
   "attachments": {},
   "cell_type": "markdown",
   "metadata": {},
   "source": [
    "## pytorch的rnn\n",
    "\n",
    "- 首先就是输入是batch_size\\*len_sencentces\\*words_num\n",
    "  \n",
    "    所以Embedding算是预处理部分，如果需要训练则？？？？？？？？\n",
    "    \n",
    "- 主要公式\n",
    "\n",
    "    $$h_t = \\tanh(x_t W_{ih} + b_{ih} + h_{t-1}W_{hh} + b_{hh})$$\n",
    "\n",
    "    - t\n",
    "\n",
    "      t为时刻，实质是到第t个字\n",
    "\n",
    "    - i\n",
    "\n",
    "      词向量的初始长度\n",
    "\n",
    "    - h\n",
    "\n",
    "      隐藏层大小"
   ]
  },
  {
   "cell_type": "code",
   "execution_count": 29,
   "metadata": {},
   "outputs": [
    {
     "name": "stdout",
     "output_type": "stream",
     "text": [
      "torch.Size([2, 5, 8])\n",
      "torch.Size([2, 5, 32]) torch.Size([1, 2, 32])\n"
     ]
    }
   ],
   "source": [
    "batch_size = 2\n",
    "sentence_len = 5\n",
    "words_num = 10\n",
    "words_len = 8\n",
    "\n",
    "X = torch.randint(0, words_num, [batch_size, sentence_len])\n",
    "\n",
    "X = nn.Embedding(words_num, words_len)(X)\n",
    "#X = X.transpose(0,1) #batch_size放在第二维，则batch_first设置为False\n",
    "print(X.shape)\n",
    "\n",
    "hidden_size = 32\n",
    "num_layers = 1\n",
    "H = torch.zeros([num_layers, batch_size, hidden_size])  #可以不设置，则默认为0，这是单向rnn\n",
    "#HH = torch.zeros([num_layers*2,batch_size,hidden_size]) #双向rnn，需要RNN中设置bidirectional=True\n",
    "\n",
    "rnn = nn.RNN(\n",
    "    input_size=words_len,\n",
    "\n",
    "    #hidden_size，num_layers 都是对网络的设置，与输入数据无关，设置相对自由\n",
    "    hidden_size=hidden_size,  # hidden层大小\n",
    "    num_layers=num_layers,  # n个rnn层\n",
    "\n",
    "    batch_first=True,  #True则输入输出的batch在第一维，否则在第二维（参照上面MyRNN在hidden前的变形）\n",
    "\n",
    "    bidirectional=False,  #是否双向rnn\n",
    ")\n",
    "\n",
    "out, outh = rnn(X, H)  #out为h的集合\n",
    "print(out.shape, outh.shape)"
   ]
  },
  {
   "cell_type": "code",
   "execution_count": 30,
   "metadata": {},
   "outputs": [
    {
     "name": "stdout",
     "output_type": "stream",
     "text": [
      "weight_ih_l0 torch.Size([32, 8]) <class 'torch.nn.parameter.Parameter'>\n",
      "weight_hh_l0 torch.Size([32, 32]) <class 'torch.nn.parameter.Parameter'>\n",
      "bias_ih_l0 torch.Size([32]) <class 'torch.nn.parameter.Parameter'>\n",
      "bias_hh_l0 torch.Size([32]) <class 'torch.nn.parameter.Parameter'>\n"
     ]
    }
   ],
   "source": [
    "for i in rnn.named_parameters():\n",
    "    print(i[0], i[1].shape, type(i[1]))"
   ]
  },
  {
   "attachments": {},
   "cell_type": "markdown",
   "metadata": {},
   "source": [
    "## 验证"
   ]
  },
  {
   "cell_type": "code",
   "execution_count": 31,
   "metadata": {},
   "outputs": [
    {
     "name": "stdout",
     "output_type": "stream",
     "text": [
      "torch.Size([2, 5, 4])\n",
      "pytorch部分\n",
      "torch.Size([2, 5, 8]) torch.Size([1, 2, 8])\n",
      "tensor([-0.7137,  0.5926, -0.6244,  0.6198, -0.1706, -0.5207, -0.0612,  0.4735],\n",
      "       grad_fn=<SliceBackward>) \n",
      " tensor([-0.8456,  0.2111,  0.1764,  0.7712, -0.0146, -0.7987, -0.6467,  0.7652],\n",
      "       grad_fn=<SliceBackward>)\n",
      "-------------------\n",
      "MyCNN部分\n",
      "torch.Size([2, 5, 8]) torch.Size([1, 2, 8])\n",
      "tensor([-0.7137,  0.5926, -0.6244,  0.6198, -0.1706, -0.5207, -0.0612,  0.4735],\n",
      "       grad_fn=<SliceBackward>) \n",
      " tensor([-0.8456,  0.2111,  0.1764,  0.7712, -0.0146, -0.7987, -0.6467,  0.7652],\n",
      "       grad_fn=<SliceBackward>)\n"
     ]
    }
   ],
   "source": [
    "torch.manual_seed(1024)\n",
    "\n",
    "batch_size = 2\n",
    "sentence_len = 5\n",
    "words_num = 10\n",
    "vector_len = 4\n",
    "\n",
    "hidden_size = 8\n",
    "num_layers = 1\n",
    "\n",
    "X = torch.randint(0, words_num, (batch_size, sentence_len))\n",
    "em = nn.Embedding(words_num, vector_len)\n",
    "X = em(X)\n",
    "print(X.shape)\n",
    "\n",
    "print('pytorch部分')\n",
    "rnn = nn.RNN(\n",
    "    input_size=vector_len,\n",
    "\n",
    "    hidden_size=hidden_size,\n",
    "    num_layers=num_layers,\n",
    "\n",
    "    batch_first=True,\n",
    ")\n",
    "out, outh = rnn(X)\n",
    "print(out.shape, outh.shape)\n",
    "print(outh[0, 0, :], '\\n', out[0, 0, :])\n",
    "print('-------------------')\n",
    "\n",
    "print('MyCNN部分')\n",
    "\n",
    "\n",
    "class MyRNN(nn.Module):\n",
    "    def __init__(self):\n",
    "        super().__init__()\n",
    "\n",
    "        self.hidden_layer_x = nn.Linear(vector_len, hidden_size)  #rnn关键部分\n",
    "        self.hidden_layer_h = nn.Linear(hidden_size, hidden_size)  #h用\n",
    "\n",
    "        #注意这里无条件复制w、b，所以最好先判断两者形状相等再赋值\n",
    "        params = list(rnn.parameters())\n",
    "        # assert self.hidden_layer_x.weight.shape == params[0].shape and\n",
    "        #        self.hidden_layer_h.weight.shape == params[1].shape and\n",
    "        #        self.hidden_layer_x.bias.shape == params[2].shape and\n",
    "        #        self.hidden_layer_h.bias.shape == params[3].shape,\n",
    "        #     print(\"shape error\")\n",
    "\n",
    "        self.hidden_layer_x.weight = params[0]\n",
    "        self.hidden_layer_h.weight = params[1]\n",
    "        self.hidden_layer_x.bias = params[2]\n",
    "        self.hidden_layer_h.bias = params[3]\n",
    "\n",
    "    def __init_hidden(self):\n",
    "        return torch.zeros([num_layers, batch_size, hidden_size])\n",
    "\n",
    "    def forward(self, x):\n",
    "        self.hidden = self.__init_hidden()\n",
    "\n",
    "        out = torch.zeros([sentence_len, batch_size, hidden_size])\n",
    "\n",
    "        x = x.transpose(0, 1)\n",
    "        for i in range(x.shape[0]):\n",
    "            a1 = self.hidden_layer_x(x[i])\n",
    "            a2 = self.hidden_layer_h(self.hidden[0])\n",
    "            self.hidden[0] = nn.Tanh()(a1 + a2)\n",
    "\n",
    "            out[i] = self.hidden[0]\n",
    "\n",
    "        return out.transpose(0, 1)\n",
    "\n",
    "\n",
    "myrnn = MyRNN()\n",
    "out = myrnn(X)\n",
    "print(out.shape, myrnn.hidden.shape)\n",
    "print(myrnn.hidden[0, 0, :], '\\n', out[0, 0, :])"
   ]
  },
  {
   "attachments": {},
   "cell_type": "markdown",
   "metadata": {},
   "source": [
    "# LSTM\n",
    "## 基本理解\n",
    "- rnn因为激活层是Tanh，显然，当前信息几乎不会对很远的计算产生影响，即只能短期记忆\n",
    "- lstm中引入可以选择“记忆”和“当前”的信息在当前输出的占比 \n",
    "## 具体介绍 \n",
    "- 输入是H（类似于rnn的hidden作用），C（当前记忆）\n",
    "- 一个单元分为记忆门，遗忘门，rnn门，输出门，其相当于四次rnn变换，只不过功能和激活函数不同\n",
    "   - 记忆门i，Sigmoid激活，即当前rnn输出需要记哪些信息到记忆C中\n",
    "   - 遗忘门f，Sigmoid激活，即原先记忆需要遗忘哪些信息\n",
    "   - rnn门g，Tanh激活，就是rnn\n",
    "   - 输出门o，Sigmoid激活，控制新记忆哪些作为新H\n",
    "- 公式如下\n",
    "$$\n",
    "    \\begin{array}{ll} \\\\\n",
    "        i_t = \\sigma(W_{ii} x_t + b_{ii} + W_{hi} h_{t-1} + b_{hi}) \\\\\n",
    "        f_t = \\sigma(W_{if} x_t + b_{if} + W_{hf} h_{t-1} + b_{hf}) \\\\\n",
    "        g_t = \\tanh(W_{ig} x_t + b_{ig} + W_{hg} h_{t-1} + b_{hg}) \\\\\n",
    "        o_t = \\sigma(W_{io} x_t + b_{io} + W_{ho} h_{t-1} + b_{ho}) \\\\\n",
    "        c_t = f_t \\odot c_{t-1} + i_t \\odot g_t \\\\\n",
    "        h_t = o_t \\odot \\tanh(c_t) \\\\\n",
    "    \\end{array}\n",
    "$$\n",
    "## pytorch内部细节\n",
    "- 将四个变换按维度一放在一起，同时计算四个门激活前的输出，输出顺序如上顺序，见如下代码"
   ]
  },
  {
   "cell_type": "code",
   "execution_count": 32,
   "metadata": {},
   "outputs": [
    {
     "name": "stdout",
     "output_type": "stream",
     "text": [
      "torch.Size([2, 5, 4])\n",
      "pytorch部分\n",
      "torch.Size([2, 5, 16]) torch.Size([1, 2, 16]) torch.Size([1, 2, 16])\n",
      "tensor([ 0.0842,  0.0372, -0.1389,  0.0300, -0.1425,  0.0223,  0.0017,  0.3239,\n",
      "        -0.0413, -0.0924, -0.1835,  0.0621,  0.0484, -0.0894,  0.2133,  0.0063],\n",
      "       grad_fn=<SliceBackward>)\n",
      "-------------------\n",
      "MyLSTM部分\n",
      "torch.Size([2, 5, 16]) torch.Size([1, 2, 16]) torch.Size([1, 2, 16])\n",
      "tensor([ 0.0842,  0.0372, -0.1389,  0.0300, -0.1425,  0.0223,  0.0017,  0.3239,\n",
      "        -0.0413, -0.0924, -0.1835,  0.0621,  0.0484, -0.0894,  0.2133,  0.0063],\n",
      "       grad_fn=<SliceBackward>)\n"
     ]
    }
   ],
   "source": [
    "torch.manual_seed(1024)\n",
    "\n",
    "batch_size = 2\n",
    "sentence_len = 5\n",
    "words_num = 10\n",
    "words_len = 4\n",
    "\n",
    "hidden_size = 16\n",
    "num_layers = 1\n",
    "\n",
    "X = torch.randint(0, words_num, (batch_size, sentence_len))\n",
    "em = nn.Embedding(words_num, words_len)\n",
    "X = em(X)\n",
    "print(X.shape)\n",
    "\n",
    "print('pytorch部分')\n",
    "lstm = nn.LSTM(\n",
    "    input_size=words_len,\n",
    "\n",
    "    hidden_size=hidden_size,\n",
    "    num_layers=num_layers,\n",
    "\n",
    "    batch_first=True,\n",
    ")\n",
    "H = torch.zeros([num_layers, batch_size, hidden_size])\n",
    "C = torch.zeros([num_layers, batch_size, hidden_size])\n",
    "out, (outh, outc) = lstm(X, (H, C))  #H、C默认为0\n",
    "print(out.shape, outh.shape, outc.shape)\n",
    "print(out[0, 0, :])\n",
    "print('-------------------')\n",
    "\n",
    "print('MyLSTM部分')\n",
    "\n",
    "\n",
    "class MyLSTM(nn.Module):\n",
    "    def __init__(self):\n",
    "        super().__init__()\n",
    "\n",
    "        self.hidden_layer_x = nn.Linear(words_len, hidden_size * 4)  #4*32，即同时输出4组\n",
    "        self.hidden_layer_h = nn.Linear(hidden_size, hidden_size * 4)  #8*32\n",
    "\n",
    "        params = list(lstm.parameters())\n",
    "        # assert self.hidden_layer_x.weight.shape == params[0].shape and\n",
    "        #        self.hidden_layer_h.weight.shape == params[1].shape and\n",
    "        #        self.hidden_layer_x.bias.shape == params[2].shape and\n",
    "        #        self.hidden_layer_h.bias.shape == params[3].shape,\n",
    "        #     print(\"shape error\")\n",
    "\n",
    "        self.hidden_layer_x.weight = params[0]\n",
    "        self.hidden_layer_h.weight = params[1]\n",
    "        self.hidden_layer_x.bias = params[2]\n",
    "        self.hidden_layer_h.bias = params[3]\n",
    "\n",
    "    def __init_H_C(self):\n",
    "        return torch.zeros([num_layers, batch_size, hidden_size]),\n",
    "               torch.zeros([num_layers, batch_size, hidden_size])\n",
    "\n",
    "    def forward(self, x):\n",
    "        self.H, self.C = self.__init_H_C()\n",
    "        #H是输出\n",
    "        #C是记忆\n",
    "\n",
    "        out = torch.zeros([sentence_len, batch_size, hidden_size])\n",
    "\n",
    "        x = x.transpose(0, 1)\n",
    "        for i in torch.arange(x.shape[0]):\n",
    "            a1 = self.hidden_layer_x(x[i])\n",
    "            a2 = self.hidden_layer_h(self.H[0])\n",
    "            a = a1 + a2\n",
    "\n",
    "            remember_gate = nn.Sigmoid()(a[:, :hidden_size * 1])  #记住下面op什么信息\n",
    "            forget_gate = nn.Sigmoid()(a[:, hidden_size * 1:hidden_size * 2])  #C遗忘什么信息\n",
    "            op = nn.Tanh()(a[:, hidden_size * 2:hidden_size * 3])\n",
    "            output_gate = nn.Sigmoid()(a[:, hidden_size * 3:])  #最终输出\n",
    "\n",
    "            self.C[0] = self.C[0] * forget_gate + remember_gate * op  #新的记忆\n",
    "            self.H[0] = nn.Tanh()(self.C) * output_gate  #生成新的输出\n",
    "\n",
    "            out[i] = self.H[0]\n",
    "\n",
    "        return out.transpose(0, 1)\n",
    "\n",
    "\n",
    "mylstm = MyLSTM()\n",
    "out = mylstm(X)\n",
    "print(out.shape, mylstm.C.shape, mylstm.H.shape)\n",
    "print(out[0, 0, :])"
   ]
  },
  {
   "attachments": {},
   "cell_type": "markdown",
   "metadata": {},
   "source": [
    "## 优化\n",
    "- 遗忘门=1-记忆门，减少运算次数\n",
    "- 。。。"
   ]
  },
  {
   "cell_type": "markdown",
   "source": [
    "# attention\n",
    "\n",
    "语句在文章内，所以以文章为一个数据，可在每段上放上一个特殊标记分隔段落\n",
    "\n",
    "用attention机制学习"
   ],
   "metadata": {
    "collapsed": false,
    "pycharm": {
     "name": "#%% md\n"
    }
   }
  },
  {
   "attachments": {},
   "cell_type": "markdown",
   "metadata": {},
   "source": [
    "# 文本预处理"
   ]
  },
  {
   "cell_type": "code",
   "execution_count": 39,
   "outputs": [
    {
     "name": "stdout",
     "output_type": "stream",
     "text": [
      "ERROR! Session/line number was not unique in database. History logging moved to new session 676\n"
     ]
    },
    {
     "ename": "KeyboardInterrupt",
     "evalue": "",
     "output_type": "error",
     "traceback": [
      "\u001B[1;31m---------------------------------------------------------------------------\u001B[0m",
      "\u001B[1;31mKeyboardInterrupt\u001B[0m                         Traceback (most recent call last)",
      "Input \u001B[1;32mIn [39]\u001B[0m, in \u001B[0;36m<cell line: 101>\u001B[1;34m()\u001B[0m\n\u001B[0;32m     95\u001B[0m     \u001B[38;5;66;03m#print(enc_out.shape, enc_h.shape, enc_c.shape) # torch.Size([64, 10, 128]) torch.Size([1, 10, 128]) torch.Size([1, 10, 128])\u001B[39;00m\n\u001B[0;32m     97\u001B[0m     model(x,y)\n\u001B[1;32m--> 101\u001B[0m \u001B[43ma\u001B[49m\u001B[43m(\u001B[49m\u001B[43m)\u001B[49m\n",
      "File \u001B[1;32mD:\\Anaconda\\envs\\pytorch\\lib\\site-packages\\torch\\autograd\\grad_mode.py:28\u001B[0m, in \u001B[0;36m_DecoratorContextManager.__call__.<locals>.decorate_context\u001B[1;34m(*args, **kwargs)\u001B[0m\n\u001B[0;32m     25\u001B[0m \u001B[38;5;129m@functools\u001B[39m\u001B[38;5;241m.\u001B[39mwraps(func)\n\u001B[0;32m     26\u001B[0m \u001B[38;5;28;01mdef\u001B[39;00m \u001B[38;5;21mdecorate_context\u001B[39m(\u001B[38;5;241m*\u001B[39margs, \u001B[38;5;241m*\u001B[39m\u001B[38;5;241m*\u001B[39mkwargs):\n\u001B[0;32m     27\u001B[0m     \u001B[38;5;28;01mwith\u001B[39;00m \u001B[38;5;28mself\u001B[39m\u001B[38;5;241m.\u001B[39m\u001B[38;5;18m__class__\u001B[39m():\n\u001B[1;32m---> 28\u001B[0m         \u001B[38;5;28;01mreturn\u001B[39;00m func(\u001B[38;5;241m*\u001B[39margs, \u001B[38;5;241m*\u001B[39m\u001B[38;5;241m*\u001B[39mkwargs)\n",
      "Input \u001B[1;32mIn [39]\u001B[0m, in \u001B[0;36ma\u001B[1;34m()\u001B[0m\n\u001B[0;32m     94\u001B[0m enc_out, (enc_h, enc_c) \u001B[38;5;241m=\u001B[39m enc(x)\n\u001B[0;32m     95\u001B[0m \u001B[38;5;66;03m#print(enc_out.shape, enc_h.shape, enc_c.shape) # torch.Size([64, 10, 128]) torch.Size([1, 10, 128]) torch.Size([1, 10, 128])\u001B[39;00m\n\u001B[1;32m---> 97\u001B[0m \u001B[43mmodel\u001B[49m\u001B[43m(\u001B[49m\u001B[43mx\u001B[49m\u001B[43m,\u001B[49m\u001B[43my\u001B[49m\u001B[43m)\u001B[49m\n",
      "File \u001B[1;32mD:\\Anaconda\\envs\\pytorch\\lib\\site-packages\\torch\\nn\\modules\\module.py:1051\u001B[0m, in \u001B[0;36mModule._call_impl\u001B[1;34m(self, *input, **kwargs)\u001B[0m\n\u001B[0;32m   1047\u001B[0m \u001B[38;5;66;03m# If we don't have any hooks, we want to skip the rest of the logic in\u001B[39;00m\n\u001B[0;32m   1048\u001B[0m \u001B[38;5;66;03m# this function, and just call forward.\u001B[39;00m\n\u001B[0;32m   1049\u001B[0m \u001B[38;5;28;01mif\u001B[39;00m \u001B[38;5;129;01mnot\u001B[39;00m (\u001B[38;5;28mself\u001B[39m\u001B[38;5;241m.\u001B[39m_backward_hooks \u001B[38;5;129;01mor\u001B[39;00m \u001B[38;5;28mself\u001B[39m\u001B[38;5;241m.\u001B[39m_forward_hooks \u001B[38;5;129;01mor\u001B[39;00m \u001B[38;5;28mself\u001B[39m\u001B[38;5;241m.\u001B[39m_forward_pre_hooks \u001B[38;5;129;01mor\u001B[39;00m _global_backward_hooks\n\u001B[0;32m   1050\u001B[0m         \u001B[38;5;129;01mor\u001B[39;00m _global_forward_hooks \u001B[38;5;129;01mor\u001B[39;00m _global_forward_pre_hooks):\n\u001B[1;32m-> 1051\u001B[0m     \u001B[38;5;28;01mreturn\u001B[39;00m forward_call(\u001B[38;5;241m*\u001B[39m\u001B[38;5;28minput\u001B[39m, \u001B[38;5;241m*\u001B[39m\u001B[38;5;241m*\u001B[39mkwargs)\n\u001B[0;32m   1052\u001B[0m \u001B[38;5;66;03m# Do not call functions when jit is used\u001B[39;00m\n\u001B[0;32m   1053\u001B[0m full_backward_hooks, non_full_backward_hooks \u001B[38;5;241m=\u001B[39m [], []\n",
      "Input \u001B[1;32mIn [39]\u001B[0m, in \u001B[0;36mSeq2Seq.forward\u001B[1;34m(self, src, trg, teacher_forcing_ratio)\u001B[0m\n\u001B[0;32m     71\u001B[0m \u001B[38;5;28minput\u001B[39m \u001B[38;5;241m=\u001B[39m trg[\u001B[38;5;241m0\u001B[39m, :]\n\u001B[0;32m     72\u001B[0m \u001B[38;5;28;01mfor\u001B[39;00m t \u001B[38;5;129;01min\u001B[39;00m \u001B[38;5;28mrange\u001B[39m(\u001B[38;5;241m1\u001B[39m, trg_len):\n\u001B[1;32m---> 73\u001B[0m     output, hidden, cell \u001B[38;5;241m=\u001B[39m \u001B[38;5;28;43mself\u001B[39;49m\u001B[38;5;241;43m.\u001B[39;49m\u001B[43mdecoder\u001B[49m\u001B[43m(\u001B[49m\u001B[38;5;28;43minput\u001B[39;49m\u001B[43m,\u001B[49m\u001B[43m \u001B[49m\u001B[43mhidden\u001B[49m\u001B[43m,\u001B[49m\u001B[43m \u001B[49m\u001B[43mcell\u001B[49m\u001B[43m,\u001B[49m\u001B[43m \u001B[49m\u001B[43mencoder_outputs\u001B[49m\u001B[43m)\u001B[49m\n\u001B[0;32m     74\u001B[0m     outputs[t] \u001B[38;5;241m=\u001B[39m output\n\u001B[0;32m     75\u001B[0m     teacher_force \u001B[38;5;241m=\u001B[39m \u001B[38;5;241m0.1\u001B[39m \u001B[38;5;241m<\u001B[39m teacher_forcing_ratio\n",
      "File \u001B[1;32mD:\\Anaconda\\envs\\pytorch\\lib\\site-packages\\torch\\nn\\modules\\module.py:1051\u001B[0m, in \u001B[0;36mModule._call_impl\u001B[1;34m(self, *input, **kwargs)\u001B[0m\n\u001B[0;32m   1047\u001B[0m \u001B[38;5;66;03m# If we don't have any hooks, we want to skip the rest of the logic in\u001B[39;00m\n\u001B[0;32m   1048\u001B[0m \u001B[38;5;66;03m# this function, and just call forward.\u001B[39;00m\n\u001B[0;32m   1049\u001B[0m \u001B[38;5;28;01mif\u001B[39;00m \u001B[38;5;129;01mnot\u001B[39;00m (\u001B[38;5;28mself\u001B[39m\u001B[38;5;241m.\u001B[39m_backward_hooks \u001B[38;5;129;01mor\u001B[39;00m \u001B[38;5;28mself\u001B[39m\u001B[38;5;241m.\u001B[39m_forward_hooks \u001B[38;5;129;01mor\u001B[39;00m \u001B[38;5;28mself\u001B[39m\u001B[38;5;241m.\u001B[39m_forward_pre_hooks \u001B[38;5;129;01mor\u001B[39;00m _global_backward_hooks\n\u001B[0;32m   1050\u001B[0m         \u001B[38;5;129;01mor\u001B[39;00m _global_forward_hooks \u001B[38;5;129;01mor\u001B[39;00m _global_forward_pre_hooks):\n\u001B[1;32m-> 1051\u001B[0m     \u001B[38;5;28;01mreturn\u001B[39;00m forward_call(\u001B[38;5;241m*\u001B[39m\u001B[38;5;28minput\u001B[39m, \u001B[38;5;241m*\u001B[39m\u001B[38;5;241m*\u001B[39mkwargs)\n\u001B[0;32m   1052\u001B[0m \u001B[38;5;66;03m# Do not call functions when jit is used\u001B[39;00m\n\u001B[0;32m   1053\u001B[0m full_backward_hooks, non_full_backward_hooks \u001B[38;5;241m=\u001B[39m [], []\n",
      "Input \u001B[1;32mIn [39]\u001B[0m, in \u001B[0;36mDecoder.forward\u001B[1;34m(self, input, hidden, cell, encoder_outputs)\u001B[0m\n\u001B[0;32m     52\u001B[0m weighted \u001B[38;5;241m=\u001B[39m torch\u001B[38;5;241m.\u001B[39mbmm(a, encoder_outputs)\n\u001B[0;32m     53\u001B[0m weighted \u001B[38;5;241m=\u001B[39m weighted\u001B[38;5;241m.\u001B[39mpermute(\u001B[38;5;241m1\u001B[39m, \u001B[38;5;241m0\u001B[39m, \u001B[38;5;241m2\u001B[39m)\n\u001B[1;32m---> 54\u001B[0m rnn_input \u001B[38;5;241m=\u001B[39m \u001B[43mtorch\u001B[49m\u001B[38;5;241m.\u001B[39mcat((embedded, weighted), dim\u001B[38;5;241m=\u001B[39m\u001B[38;5;241m2\u001B[39m)\n\u001B[0;32m     55\u001B[0m output, (hidden, cell) \u001B[38;5;241m=\u001B[39m \u001B[38;5;28mself\u001B[39m\u001B[38;5;241m.\u001B[39mrnn(rnn_input, (hidden, cell))\n\u001B[0;32m     56\u001B[0m prediction \u001B[38;5;241m=\u001B[39m \u001B[38;5;28mself\u001B[39m\u001B[38;5;241m.\u001B[39mfc_out(output\u001B[38;5;241m.\u001B[39msqueeze(\u001B[38;5;241m0\u001B[39m))\n",
      "Input \u001B[1;32mIn [39]\u001B[0m, in \u001B[0;36mDecoder.forward\u001B[1;34m(self, input, hidden, cell, encoder_outputs)\u001B[0m\n\u001B[0;32m     52\u001B[0m weighted \u001B[38;5;241m=\u001B[39m torch\u001B[38;5;241m.\u001B[39mbmm(a, encoder_outputs)\n\u001B[0;32m     53\u001B[0m weighted \u001B[38;5;241m=\u001B[39m weighted\u001B[38;5;241m.\u001B[39mpermute(\u001B[38;5;241m1\u001B[39m, \u001B[38;5;241m0\u001B[39m, \u001B[38;5;241m2\u001B[39m)\n\u001B[1;32m---> 54\u001B[0m rnn_input \u001B[38;5;241m=\u001B[39m \u001B[43mtorch\u001B[49m\u001B[38;5;241m.\u001B[39mcat((embedded, weighted), dim\u001B[38;5;241m=\u001B[39m\u001B[38;5;241m2\u001B[39m)\n\u001B[0;32m     55\u001B[0m output, (hidden, cell) \u001B[38;5;241m=\u001B[39m \u001B[38;5;28mself\u001B[39m\u001B[38;5;241m.\u001B[39mrnn(rnn_input, (hidden, cell))\n\u001B[0;32m     56\u001B[0m prediction \u001B[38;5;241m=\u001B[39m \u001B[38;5;28mself\u001B[39m\u001B[38;5;241m.\u001B[39mfc_out(output\u001B[38;5;241m.\u001B[39msqueeze(\u001B[38;5;241m0\u001B[39m))\n",
      "File \u001B[1;32m_pydevd_bundle\\pydevd_cython_win32_39_64.pyx:1180\u001B[0m, in \u001B[0;36m_pydevd_bundle.pydevd_cython_win32_39_64.SafeCallWrapper.__call__\u001B[1;34m()\u001B[0m\n",
      "File \u001B[1;32m_pydevd_bundle\\pydevd_cython_win32_39_64.pyx:621\u001B[0m, in \u001B[0;36m_pydevd_bundle.pydevd_cython_win32_39_64.PyDBFrame.trace_dispatch\u001B[1;34m()\u001B[0m\n",
      "File \u001B[1;32m_pydevd_bundle\\pydevd_cython_win32_39_64.pyx:930\u001B[0m, in \u001B[0;36m_pydevd_bundle.pydevd_cython_win32_39_64.PyDBFrame.trace_dispatch\u001B[1;34m()\u001B[0m\n",
      "File \u001B[1;32m_pydevd_bundle\\pydevd_cython_win32_39_64.pyx:921\u001B[0m, in \u001B[0;36m_pydevd_bundle.pydevd_cython_win32_39_64.PyDBFrame.trace_dispatch\u001B[1;34m()\u001B[0m\n",
      "File \u001B[1;32m_pydevd_bundle\\pydevd_cython_win32_39_64.pyx:318\u001B[0m, in \u001B[0;36m_pydevd_bundle.pydevd_cython_win32_39_64.PyDBFrame.do_wait_suspend\u001B[1;34m()\u001B[0m\n",
      "File \u001B[1;32mD:\\PyCharm 2021.3.2\\plugins\\python\\helpers\\pydev\\pydevd.py:1147\u001B[0m, in \u001B[0;36mPyDB.do_wait_suspend\u001B[1;34m(self, thread, frame, event, arg, send_suspend_message, is_unhandled_exception)\u001B[0m\n\u001B[0;32m   1144\u001B[0m         from_this_thread\u001B[38;5;241m.\u001B[39mappend(frame_id)\n\u001B[0;32m   1146\u001B[0m \u001B[38;5;28;01mwith\u001B[39;00m \u001B[38;5;28mself\u001B[39m\u001B[38;5;241m.\u001B[39m_threads_suspended_single_notification\u001B[38;5;241m.\u001B[39mnotify_thread_suspended(thread_id, stop_reason):\n\u001B[1;32m-> 1147\u001B[0m     \u001B[38;5;28;43mself\u001B[39;49m\u001B[38;5;241;43m.\u001B[39;49m\u001B[43m_do_wait_suspend\u001B[49m\u001B[43m(\u001B[49m\u001B[43mthread\u001B[49m\u001B[43m,\u001B[49m\u001B[43m \u001B[49m\u001B[43mframe\u001B[49m\u001B[43m,\u001B[49m\u001B[43m \u001B[49m\u001B[43mevent\u001B[49m\u001B[43m,\u001B[49m\u001B[43m \u001B[49m\u001B[43marg\u001B[49m\u001B[43m,\u001B[49m\u001B[43m \u001B[49m\u001B[43msuspend_type\u001B[49m\u001B[43m,\u001B[49m\u001B[43m \u001B[49m\u001B[43mfrom_this_thread\u001B[49m\u001B[43m)\u001B[49m\n",
      "File \u001B[1;32mD:\\PyCharm 2021.3.2\\plugins\\python\\helpers\\pydev\\pydevd.py:1162\u001B[0m, in \u001B[0;36mPyDB._do_wait_suspend\u001B[1;34m(self, thread, frame, event, arg, suspend_type, from_this_thread)\u001B[0m\n\u001B[0;32m   1159\u001B[0m             \u001B[38;5;28mself\u001B[39m\u001B[38;5;241m.\u001B[39m_call_mpl_hook()\n\u001B[0;32m   1161\u001B[0m         \u001B[38;5;28mself\u001B[39m\u001B[38;5;241m.\u001B[39mprocess_internal_commands()\n\u001B[1;32m-> 1162\u001B[0m         \u001B[43mtime\u001B[49m\u001B[38;5;241;43m.\u001B[39;49m\u001B[43msleep\u001B[49m\u001B[43m(\u001B[49m\u001B[38;5;241;43m0.01\u001B[39;49m\u001B[43m)\u001B[49m\n\u001B[0;32m   1164\u001B[0m \u001B[38;5;28mself\u001B[39m\u001B[38;5;241m.\u001B[39mcancel_async_evaluation(get_current_thread_id(thread), \u001B[38;5;28mstr\u001B[39m(\u001B[38;5;28mid\u001B[39m(frame)))\n\u001B[0;32m   1166\u001B[0m \u001B[38;5;66;03m# process any stepping instructions\u001B[39;00m\n",
      "\u001B[1;31mKeyboardInterrupt\u001B[0m: "
     ]
    }
   ],
   "source": [
    "import torch\n",
    "import torch.nn as nn\n",
    "\n",
    "# 定义模型超参数\n",
    "batch_size = 64\n",
    "encoder_seq_length = 10\n",
    "decoder_seq_length = 10\n",
    "embedding_dim = 32\n",
    "hidden_units = 128\n",
    "\n",
    "# 构建编码器\n",
    "class Encoder(nn.Module):\n",
    "    def __init__(self, input_dim, emb_dim, hidden_dim):\n",
    "        super().__init__()\n",
    "        self.embedding = nn.Embedding(input_dim, emb_dim)\n",
    "        self.rnn = nn.LSTM(emb_dim, hidden_dim, bidirectional=False)\n",
    "\n",
    "    def forward(self, src):\n",
    "        embedded = self.embedding(src)\n",
    "        outputs, (hidden, cell) = self.rnn(embedded)\n",
    "        return outputs, (hidden, cell)\n",
    "\n",
    "# 构建注意力机制\n",
    "class Attention(nn.Module):\n",
    "    def __init__(self, enc_hidden_dim, dec_hidden_dim):\n",
    "        super().__init__()\n",
    "        self.attn = nn.Linear(enc_hidden_dim + dec_hidden_dim, dec_hidden_dim)\n",
    "        self.v = nn.Linear(dec_hidden_dim, 1, bias=False)\n",
    "\n",
    "    def forward(self, hidden, encoder_outputs):\n",
    "        batch_size, _, _ = encoder_outputs.shape\n",
    "        hidden = hidden.repeat(batch_size, 1, 1)\n",
    "        energy = torch.tanh(self.attn(torch.cat((hidden, encoder_outputs), dim=2)))\n",
    "        attention = self.v(energy).squeeze(2)\n",
    "        return torch.softmax(attention, dim=1)\n",
    "\n",
    "# 构建解码器\n",
    "class Decoder(nn.Module):\n",
    "    def __init__(self, output_dim, emb_dim, hidden_dim, attention):\n",
    "        super().__init__()\n",
    "        self.output_dim = output_dim\n",
    "        self.embedding = nn.Embedding(output_dim, emb_dim)\n",
    "        self.rnn = nn.LSTM(emb_dim + hidden_dim, hidden_dim)\n",
    "        self.fc_out = nn.Linear(hidden_dim, output_dim)\n",
    "        self.attention = attention\n",
    "\n",
    "    def forward(self, input, hidden, cell, encoder_outputs):\n",
    "        input = input.unsqueeze(0)\n",
    "        embedded = self.embedding(input)\n",
    "        a = self.attention(hidden, encoder_outputs)\n",
    "        a = a.unsqueeze(1)\n",
    "        weighted = torch.bmm(a, encoder_outputs)\n",
    "        weighted = weighted.permute(1, 0, 2)\n",
    "        rnn_input = torch.cat((embedded, weighted), dim=2)\n",
    "        output, (hidden, cell) = self.rnn(rnn_input, (hidden, cell))\n",
    "        prediction = self.fc_out(output.squeeze(0))\n",
    "        return prediction, hidden, cell\n",
    "\n",
    "# 定义Seq2Seq模型\n",
    "class Seq2Seq(nn.Module):\n",
    "    def __init__(self, encoder, decoder):\n",
    "        super().__init__()\n",
    "        self.encoder = encoder\n",
    "        self.decoder = decoder\n",
    "\n",
    "    def forward(self, src, trg, teacher_forcing_ratio=0.5):\n",
    "        trg_len = trg.shape[0]\n",
    "        trg_vocab_size = self.decoder.output_dim\n",
    "        outputs = torch.zeros(trg_len, batch_size, trg_vocab_size)\n",
    "        encoder_outputs, (hidden, cell) = self.encoder(src)\n",
    "        input = trg[0, :]\n",
    "        for t in range(1, trg_len):\n",
    "            output, hidden, cell = self.decoder(input, hidden, cell, encoder_outputs)\n",
    "            outputs[t] = output\n",
    "            teacher_force = 0.1 < teacher_forcing_ratio\n",
    "            top1 = output.argmax(1)\n",
    "            input = trg[t] if teacher_force else top1\n",
    "        return outputs\n",
    "\n",
    "# 创建模型实例\n",
    "INPUT_DIM = 10000  # 假设输入词汇表大小为10000\n",
    "OUTPUT_DIM = 10000  # 假设输出词汇表大小为10000\n",
    "\n",
    "enc = Encoder(INPUT_DIM, embedding_dim, hidden_units)\n",
    "attn = Attention(hidden_units, hidden_units)\n",
    "dec = Decoder(OUTPUT_DIM, embedding_dim, hidden_units, attn)\n",
    "\n",
    "model = Seq2Seq(enc, dec)\n",
    "\n",
    "@torch.no_grad()\n",
    "def a():\n",
    "    x = torch.randint(0, 10000, (64, 10))\n",
    "    y = torch.randint(0, 10000, (64, 10))\n",
    "    enc_out, (enc_h, enc_c) = enc(x)\n",
    "    #print(enc_out.shape, enc_h.shape, enc_c.shape) # torch.Size([64, 10, 128]) torch.Size([1, 10, 128]) torch.Size([1, 10, 128])\n",
    "\n",
    "    model(x,y)\n",
    "\n",
    "\n",
    "\n",
    "a()"
   ],
   "metadata": {
    "collapsed": false,
    "pycharm": {
     "name": "#%%\n"
    }
   }
  },
  {
   "attachments": {},
   "cell_type": "markdown",
   "metadata": {},
   "source": [
    "## df处理"
   ]
  },
  {
   "cell_type": "code",
   "execution_count": null,
   "metadata": {},
   "outputs": [
    {
     "name": "stdout",
     "output_type": "stream",
     "text": [
      "['test', 'train'] ['sample_submission.csv', 'test.csv', 'train.csv', '来源.txt']\n"
     ]
    }
   ],
   "source": [
    "#阅览数据\n",
    "data_dir = \"E:/DATA/feedback-prize-effectiveness/\"\n",
    "for root, dirs, files in os.walk(data_dir):\n",
    "    print(dirs, files)\n",
    "    break"
   ]
  },
  {
   "cell_type": "code",
   "execution_count": null,
   "metadata": {},
   "outputs": [
    {
     "data": {
      "text/html": [
       "<div>\n",
       "<style scoped>\n",
       "    .dataframe tbody tr th:only-of-type {\n",
       "        vertical-align: middle;\n",
       "    }\n",
       "\n",
       "    .dataframe tbody tr th {\n",
       "        vertical-align: top;\n",
       "    }\n",
       "\n",
       "    .dataframe thead th {\n",
       "        text-align: right;\n",
       "    }\n",
       "</style>\n",
       "<table border=\"1\" class=\"dataframe\">\n",
       "  <thead>\n",
       "    <tr style=\"text-align: right;\">\n",
       "      <th></th>\n",
       "      <th>discourse_id</th>\n",
       "      <th>essay_id</th>\n",
       "      <th>discourse_text</th>\n",
       "      <th>discourse_type</th>\n",
       "      <th>discourse_effectiveness</th>\n",
       "    </tr>\n",
       "  </thead>\n",
       "  <tbody>\n",
       "    <tr>\n",
       "      <th>0</th>\n",
       "      <td>0013cc385424</td>\n",
       "      <td>007ACE74B050</td>\n",
       "      <td>Hi, i'm Isaac, i'm going to be writing about h...</td>\n",
       "      <td>Lead</td>\n",
       "      <td>Adequate</td>\n",
       "    </tr>\n",
       "    <tr>\n",
       "      <th>1</th>\n",
       "      <td>9704a709b505</td>\n",
       "      <td>007ACE74B050</td>\n",
       "      <td>On my perspective, I think that the face is a ...</td>\n",
       "      <td>Position</td>\n",
       "      <td>Adequate</td>\n",
       "    </tr>\n",
       "    <tr>\n",
       "      <th>2</th>\n",
       "      <td>c22adee811b6</td>\n",
       "      <td>007ACE74B050</td>\n",
       "      <td>I think that the face is a natural landform be...</td>\n",
       "      <td>Claim</td>\n",
       "      <td>Adequate</td>\n",
       "    </tr>\n",
       "    <tr>\n",
       "      <th>3</th>\n",
       "      <td>a10d361e54e4</td>\n",
       "      <td>007ACE74B050</td>\n",
       "      <td>If life was on Mars, we would know by now. The...</td>\n",
       "      <td>Evidence</td>\n",
       "      <td>Adequate</td>\n",
       "    </tr>\n",
       "    <tr>\n",
       "      <th>4</th>\n",
       "      <td>db3e453ec4e2</td>\n",
       "      <td>007ACE74B050</td>\n",
       "      <td>People thought that the face was formed by ali...</td>\n",
       "      <td>Counterclaim</td>\n",
       "      <td>Adequate</td>\n",
       "    </tr>\n",
       "  </tbody>\n",
       "</table>\n",
       "</div>"
      ],
      "text/plain": [
       "   discourse_id      essay_id  \\\n",
       "0  0013cc385424  007ACE74B050   \n",
       "1  9704a709b505  007ACE74B050   \n",
       "2  c22adee811b6  007ACE74B050   \n",
       "3  a10d361e54e4  007ACE74B050   \n",
       "4  db3e453ec4e2  007ACE74B050   \n",
       "\n",
       "                                      discourse_text discourse_type  \\\n",
       "0  Hi, i'm Isaac, i'm going to be writing about h...           Lead   \n",
       "1  On my perspective, I think that the face is a ...       Position   \n",
       "2  I think that the face is a natural landform be...          Claim   \n",
       "3  If life was on Mars, we would know by now. The...       Evidence   \n",
       "4  People thought that the face was formed by ali...   Counterclaim   \n",
       "\n",
       "  discourse_effectiveness  \n",
       "0                Adequate  \n",
       "1                Adequate  \n",
       "2                Adequate  \n",
       "3                Adequate  \n",
       "4                Adequate  "
      ]
     },
     "execution_count": 11,
     "metadata": {},
     "output_type": "execute_result"
    }
   ],
   "source": [
    "train_df = pd.read_csv(os.path.join(data_dir, \"train.csv\"))\n",
    "train_df.head()"
   ]
  },
  {
   "cell_type": "code",
   "execution_count": null,
   "metadata": {},
   "outputs": [
    {
     "data": {
      "text/plain": [
       "discourse_type             [Lead, Position, Claim, Evidence, Counterclaim...\n",
       "discourse_effectiveness                   [Adequate, Ineffective, Effective]\n",
       "dtype: object"
      ]
     },
     "execution_count": 12,
     "metadata": {},
     "output_type": "execute_result"
    }
   ],
   "source": [
    "train_df[['discourse_type', 'discourse_effectiveness']].apply(pd.unique)"
   ]
  },
  {
   "cell_type": "code",
   "execution_count": null,
   "metadata": {},
   "outputs": [
    {
     "name": "stdout",
     "output_type": "stream",
     "text": [
      "4191\n",
      "4191\n"
     ]
    }
   ],
   "source": [
    "print(len(pd.unique(train_df['essay_id'])))\n",
    "for _, _, files in os.walk(os.path.join(data_dir, \"train\")):\n",
    "    print(len(files))\n",
    "    break"
   ]
  },
  {
   "cell_type": "code",
   "execution_count": null,
   "metadata": {},
   "outputs": [
    {
     "data": {
      "text/html": [
       "<div>\n",
       "<style scoped>\n",
       "    .dataframe tbody tr th:only-of-type {\n",
       "        vertical-align: middle;\n",
       "    }\n",
       "\n",
       "    .dataframe tbody tr th {\n",
       "        vertical-align: top;\n",
       "    }\n",
       "\n",
       "    .dataframe thead th {\n",
       "        text-align: right;\n",
       "    }\n",
       "</style>\n",
       "<table border=\"1\" class=\"dataframe\">\n",
       "  <thead>\n",
       "    <tr style=\"text-align: right;\">\n",
       "      <th></th>\n",
       "      <th>discourse_id</th>\n",
       "      <th>essay_id</th>\n",
       "      <th>discourse_text</th>\n",
       "      <th>discourse_type</th>\n",
       "    </tr>\n",
       "  </thead>\n",
       "  <tbody>\n",
       "    <tr>\n",
       "      <th>0</th>\n",
       "      <td>a261b6e14276</td>\n",
       "      <td>D72CB1C11673</td>\n",
       "      <td>Making choices in life can be very difficult. ...</td>\n",
       "      <td>Lead</td>\n",
       "    </tr>\n",
       "    <tr>\n",
       "      <th>1</th>\n",
       "      <td>5a88900e7dc1</td>\n",
       "      <td>D72CB1C11673</td>\n",
       "      <td>Seeking multiple opinions can help a person ma...</td>\n",
       "      <td>Position</td>\n",
       "    </tr>\n",
       "    <tr>\n",
       "      <th>2</th>\n",
       "      <td>9790d835736b</td>\n",
       "      <td>D72CB1C11673</td>\n",
       "      <td>it can decrease stress levels</td>\n",
       "      <td>Claim</td>\n",
       "    </tr>\n",
       "    <tr>\n",
       "      <th>3</th>\n",
       "      <td>75ce6d68b67b</td>\n",
       "      <td>D72CB1C11673</td>\n",
       "      <td>a great chance to learn something new</td>\n",
       "      <td>Claim</td>\n",
       "    </tr>\n",
       "    <tr>\n",
       "      <th>4</th>\n",
       "      <td>93578d946723</td>\n",
       "      <td>D72CB1C11673</td>\n",
       "      <td>can be very helpful and beneficial.</td>\n",
       "      <td>Claim</td>\n",
       "    </tr>\n",
       "  </tbody>\n",
       "</table>\n",
       "</div>"
      ],
      "text/plain": [
       "   discourse_id      essay_id  \\\n",
       "0  a261b6e14276  D72CB1C11673   \n",
       "1  5a88900e7dc1  D72CB1C11673   \n",
       "2  9790d835736b  D72CB1C11673   \n",
       "3  75ce6d68b67b  D72CB1C11673   \n",
       "4  93578d946723  D72CB1C11673   \n",
       "\n",
       "                                      discourse_text discourse_type  \n",
       "0  Making choices in life can be very difficult. ...           Lead  \n",
       "1  Seeking multiple opinions can help a person ma...       Position  \n",
       "2                     it can decrease stress levels           Claim  \n",
       "3             a great chance to learn something new           Claim  \n",
       "4               can be very helpful and beneficial.           Claim  "
      ]
     },
     "execution_count": 5,
     "metadata": {},
     "output_type": "execute_result"
    }
   ],
   "source": [
    "test_df = pd.read_csv(os.path.join(data_dir, \"test.csv\"))\n",
    "test_df.head()\n",
    "\n",
    "#可知文本类型已知，所以考虑如何将文本类型作为输入"
   ]
  },
  {
   "cell_type": "code",
   "execution_count": null,
   "metadata": {},
   "outputs": [
    {
     "data": {
      "text/plain": [
       "0                    [Lead]\n",
       "1                [Position]\n",
       "2                   [Claim]\n",
       "3                   [Claim]\n",
       "4                   [Claim]\n",
       "5                [Evidence]\n",
       "6                [Evidence]\n",
       "7                   [Claim]\n",
       "8                [Evidence]\n",
       "9    [Concluding Statement]\n",
       "Name: discourse_type, dtype: object"
      ]
     },
     "execution_count": 8,
     "metadata": {},
     "output_type": "execute_result"
    }
   ],
   "source": [
    "test_df['discourse_type'].apply(pd.unique)"
   ]
  },
  {
   "cell_type": "code",
   "execution_count": null,
   "metadata": {},
   "outputs": [
    {
     "name": "stdout",
     "output_type": "stream",
     "text": [
      "1\n",
      "1\n"
     ]
    }
   ],
   "source": [
    "print(len(pd.unique(test_df['essay_id'])))\n",
    "for _, _, files in os.walk(os.path.join(data_dir, \"test\")):\n",
    "    print(len(files))\n",
    "    break"
   ]
  },
  {
   "cell_type": "code",
   "execution_count": null,
   "metadata": {},
   "outputs": [
    {
     "data": {
      "text/html": [
       "<div>\n",
       "<style scoped>\n",
       "    .dataframe tbody tr th:only-of-type {\n",
       "        vertical-align: middle;\n",
       "    }\n",
       "\n",
       "    .dataframe tbody tr th {\n",
       "        vertical-align: top;\n",
       "    }\n",
       "\n",
       "    .dataframe thead th {\n",
       "        text-align: right;\n",
       "    }\n",
       "</style>\n",
       "<table border=\"1\" class=\"dataframe\">\n",
       "  <thead>\n",
       "    <tr style=\"text-align: right;\">\n",
       "      <th></th>\n",
       "      <th>id</th>\n",
       "      <th>text</th>\n",
       "      <th>type</th>\n",
       "      <th>ef</th>\n",
       "    </tr>\n",
       "  </thead>\n",
       "  <tbody>\n",
       "    <tr>\n",
       "      <th>0</th>\n",
       "      <td>007ACE74B050</td>\n",
       "      <td>Hi, i'm Isaac, i'm going to be writing about h...</td>\n",
       "      <td>1</td>\n",
       "      <td>1</td>\n",
       "    </tr>\n",
       "    <tr>\n",
       "      <th>1</th>\n",
       "      <td>007ACE74B050</td>\n",
       "      <td>On my perspective, I think that the face is a ...</td>\n",
       "      <td>2</td>\n",
       "      <td>1</td>\n",
       "    </tr>\n",
       "    <tr>\n",
       "      <th>2</th>\n",
       "      <td>007ACE74B050</td>\n",
       "      <td>I think that the face is a natural landform be...</td>\n",
       "      <td>3</td>\n",
       "      <td>1</td>\n",
       "    </tr>\n",
       "    <tr>\n",
       "      <th>3</th>\n",
       "      <td>007ACE74B050</td>\n",
       "      <td>If life was on Mars, we would know by now. The...</td>\n",
       "      <td>4</td>\n",
       "      <td>1</td>\n",
       "    </tr>\n",
       "    <tr>\n",
       "      <th>4</th>\n",
       "      <td>007ACE74B050</td>\n",
       "      <td>People thought that the face was formed by ali...</td>\n",
       "      <td>5</td>\n",
       "      <td>1</td>\n",
       "    </tr>\n",
       "  </tbody>\n",
       "</table>\n",
       "</div>"
      ],
      "text/plain": [
       "             id                                               text  type  ef\n",
       "0  007ACE74B050  Hi, i'm Isaac, i'm going to be writing about h...     1   1\n",
       "1  007ACE74B050  On my perspective, I think that the face is a ...     2   1\n",
       "2  007ACE74B050  I think that the face is a natural landform be...     3   1\n",
       "3  007ACE74B050  If life was on Mars, we would know by now. The...     4   1\n",
       "4  007ACE74B050  People thought that the face was formed by ali...     5   1"
      ]
     },
     "execution_count": 3,
     "metadata": {},
     "output_type": "execute_result"
    }
   ],
   "source": [
    "#列的处理\n",
    "data_dir = \"E:/DATA/feedback-prize-effectiveness/\"\n",
    "train_df = pd.read_csv(os.path.join(data_dir, \"train.csv\"))\n",
    "\n",
    "needed_col = ['essay_id', 'discourse_text', 'discourse_type', 'discourse_effectiveness']\n",
    "train_df = train_df[needed_col]\n",
    "train_df.columns = ['id', 'text', 'type', 'ef']\n",
    "\n",
    "#typ = {'Lead':1,'Position':2, 'Claim':3, 'Evidence':4, 'Counterclaim':5, 'Rebuttal':6, 'Concluding Statement':7}\n",
    "#eff = {'Adequate':1, 'Ineffective':2, 'Effective':3}\n",
    "#train_df['type'] = train_df['type'].apply(lambda x:typ[x])\n",
    "#train_df['ef'] = train_df['ef'].apply(lambda x:eff[x])\n",
    "\n",
    "train_df.head()\n",
    "\n",
    "train_df.to_csv(os.path.join(data_dir, \"proc_train.csv\"))"
   ]
  },
  {
   "cell_type": "code",
   "execution_count": null,
   "metadata": {},
   "outputs": [],
   "source": [
    "train_df = pd.read_csv(os.path.join(data_dir, \"proc_train.csv\"))"
   ]
  },
  {
   "cell_type": "code",
   "execution_count": null,
   "metadata": {},
   "outputs": [
    {
     "ename": "AttributeError",
     "evalue": "module 'torchtext' has no attribute 'legacy'",
     "output_type": "error",
     "traceback": [
      "\u001B[1;31m---------------------------------------------------------------------------\u001B[0m",
      "\u001B[1;31mAttributeError\u001B[0m                            Traceback (most recent call last)",
      "\u001B[1;32me:\\project\\python\\feedback-prize-effectiveness\\exp.ipynb Cell 61\u001B[0m in \u001B[0;36m<cell line: 2>\u001B[1;34m()\u001B[0m\n\u001B[0;32m      <a href='vscode-notebook-cell:/e%3A/project/python/feedback-prize-effectiveness/exp.ipynb#Y114sZmlsZQ%3D%3D?line=0'>1</a>\u001B[0m \u001B[39m#词处理\u001B[39;00m\n\u001B[1;32m----> <a href='vscode-notebook-cell:/e%3A/project/python/feedback-prize-effectiveness/exp.ipynb#Y114sZmlsZQ%3D%3D?line=1'>2</a>\u001B[0m torchtext\u001B[39m.\u001B[39;49mlegacy\u001B[39m.\u001B[39mdata\n\u001B[0;32m      <a href='vscode-notebook-cell:/e%3A/project/python/feedback-prize-effectiveness/exp.ipynb#Y114sZmlsZQ%3D%3D?line=2'>3</a>\u001B[0m text_field \u001B[39m=\u001B[39m torchtext\u001B[39m.\u001B[39mdata\u001B[39m.\u001B[39mField(sequential\u001B[39m=\u001B[39m\u001B[39mTrue\u001B[39;00m, tokenize\u001B[39m=\u001B[39m\u001B[39m'\u001B[39m\u001B[39mspacy\u001B[39m\u001B[39m'\u001B[39m,lower\u001B[39m=\u001B[39m\u001B[39mTrue\u001B[39;00m,batch_first\u001B[39m=\u001B[39m\u001B[39mTrue\u001B[39;00m) \u001B[39m#会自行处理停用词和符号\u001B[39;00m\n\u001B[0;32m      <a href='vscode-notebook-cell:/e%3A/project/python/feedback-prize-effectiveness/exp.ipynb#Y114sZmlsZQ%3D%3D?line=3'>4</a>\u001B[0m label_field \u001B[39m=\u001B[39m torchtext\u001B[39m.\u001B[39mdata\u001B[39m.\u001B[39mField(sequential\u001B[39m=\u001B[39m\u001B[39mFalse\u001B[39;00m,use_vocab\u001B[39m=\u001B[39m\u001B[39mFalse\u001B[39;00m)\u001B[39m#是单独的类别，而不是文本，原数据可以是数字\u001B[39;00m\n",
      "\u001B[1;31mAttributeError\u001B[0m: module 'torchtext' has no attribute 'legacy'"
     ]
    }
   ],
   "source": [
    "#词处理\n",
    "text_field = torchtext.data.Field(sequential=True, tokenize='spacy', lower=True, batch_first=True)  #会自行处理停用词和符号\n",
    "label_field = torchtext.data.Field(sequential=False, use_vocab=False)  #是单独的类别，而不是文本，原数据可以是数字\n",
    "\n",
    "fields = [('id', None), ('text', text_field), ('type', label_field), ('ef', label_field)]\n",
    "train_dataset = torchtext.data.TabularDataset(os.path.join(data_dir, \"proc_train.csv\"), 'csv', fields)\n",
    "\n",
    "text_field.build_vocab(train_dataset, vector='glove.6B.100d')\n",
    "label_field.build_vocab(train_dataset)"
   ]
  },
  {
   "attachments": {},
   "cell_type": "markdown",
   "metadata": {},
   "source": [
    "# 开始"
   ]
  },
  {
   "attachments": {},
   "cell_type": "markdown",
   "metadata": {},
   "source": [
    "## 基本参数"
   ]
  },
  {
   "cell_type": "code",
   "execution_count": 2,
   "metadata": {},
   "outputs": [
    {
     "name": "stdout",
     "output_type": "stream",
     "text": [
      "cpu\n"
     ]
    }
   ],
   "source": [
    "device = torch.device('cuda') if torch.cuda.is_available() else torch.device('cpu')\n",
    "print(device)\n",
    "\n",
    "data_dir = \"E:/DATA/feedback-prize-effectiveness/\"\n",
    "\n",
    "assist_dir = \"./assist/\"\n",
    "if (not os.path.exists(assist_dir)):\n",
    "    os.mkdir(assist_dir)\n",
    "models_dir = \"./models_dir/\"\n",
    "if (not os.path.exists(models_dir)):\n",
    "    os.mkdir(models_dir)\n",
    "exp_name = \"exp1\"\n",
    "exp_dir = os.path.join(models_dir, exp_name)\n",
    "if (not os.path.exists(exp_dir)):\n",
    "    os.mkdir(exp_dir)\n",
    "\n",
    "word_count = 60  #不能让大部分数据空值太多\n",
    "max_word_count = 100  #超过这个值考虑取首尾\n",
    "word_vector_dir = \"E:/DATA/glove.6B/\"\n",
    "\n",
    "stop_words_file = \"E:/DATA/english_stop_words.txt\"\n",
    "\n",
    "train_batch_size = 64\n",
    "valid_batch_size = 128\n",
    "test_batch_size = 128\n",
    "epochs = 15\n",
    "\n",
    "seed = 101\n",
    "\n",
    "\n",
    "def set_seed():\n",
    "    np.random.seed(seed)\n",
    "    torch.manual_seed(seed)\n",
    "    torch.cuda.manual_seed(seed)\n",
    "    # When running on the CuDNN backend, two further options must be set\n",
    "    torch.backends.cudnn.deterministic = True\n",
    "    torch.backends.cudnn.benchmark = False\n",
    "\n",
    "\n",
    "set_seed()\n",
    "\n",
    "exp_name = \"exp1\""
   ]
  },
  {
   "attachments": {},
   "cell_type": "markdown",
   "metadata": {},
   "source": [
    "## df预处理"
   ]
  },
  {
   "attachments": {},
   "cell_type": "markdown",
   "metadata": {},
   "source": [
    "### 未优化版"
   ]
  },
  {
   "cell_type": "code",
   "execution_count": 3,
   "metadata": {},
   "outputs": [],
   "source": [
    "#只运行一次，产生处理过的csv\n",
    "\n",
    "#列重命名\n",
    "train_df1 = pd.read_csv(os.path.join(data_dir, \"train.csv\"))\n",
    "needed_col = ['essay_id', 'discourse_text', 'discourse_type', 'discourse_effectiveness']\n",
    "train_df1 = train_df1[needed_col]\n",
    "train_df1.columns = ['id', 'text', 'type', 'ef']\n",
    "\n",
    "#type加到text首\n",
    "train_df1['text'] = train_df1[['text', 'type']].apply(\n",
    "    lambda x: x[1] + \".\" + x[0] if x[1] == \"Concluding Statement\" else \"Conclusion.\" + x[0], axis=1)\n",
    "\n",
    "#type数字化\n",
    "typ = {'Claim': 0, \"Concluding Statement\": 1, \"Counterclaim\": 2, \"Evidence\": 3, \"Lead\": 4, \"Position\": 5, \"Rebuttal\": 6}\n",
    "train_df1['type'] = train_df1['type'].apply(lambda x: typ[x])\n",
    "#ef数字化\n",
    "eff = {'Adequate': 0, 'Ineffective': 1, 'Effective': 2}\n",
    "train_df1['ef'] = train_df1['ef'].apply(lambda x: eff[x])\n",
    "\n",
    "#统计单词个数供划分用\n",
    "train_df1['word_count'] = train_df1['text'].apply(\n",
    "    lambda x: len(list(filter(None, re.split(r\"[\\n|\\s|,|!|.|?]\", x))))\n",
    ")\n",
    "\n",
    "#分训练集验证集\n",
    "train_df1['fold'] = [-1] * len(train_df1)\n",
    "skf = StratifiedKFold(n_splits=5, shuffle=True)\n",
    "for i, (train_i, valid_i) in enumerate(skf.split(train_df1, train_df1['type'])):\n",
    "    train_df1.loc[valid_i, 'fold'] = i + 1\n",
    "train_df = train_df1[train_df1['fold'] != 1]\n",
    "train_df = train_df.drop(labels=['fold'], axis=1)\n",
    "valid_df = train_df1[train_df1['fold'] == 1]\n",
    "valid_df = valid_df.drop(labels=['fold'], axis=1)\n",
    "\n",
    "#保存\n",
    "train_df.to_csv(os.path.join(assist_dir, \"train.csv\"), index=None)\n",
    "valid_df.to_csv(os.path.join(assist_dir, \"valid.csv\"), index=None)\n",
    "\n",
    "#测试集，也需要对text进行处理，同时获取word_count\n",
    "test_df = pd.read_csv(os.path.join(data_dir, \"test.csv\"))\n",
    "needed_col = ['essay_id', 'discourse_text', 'discourse_type']\n",
    "test_df = test_df[needed_col]\n",
    "test_df.columns = ['id', 'text', 'type']\n",
    "\n",
    "test_df['text'] = test_df[['text', 'type']].apply(\n",
    "    lambda x: x[1] + \".\" + x[0] if x[1] == \"Concluding Statement\" else \"Conclusion.\" + x[0], axis=1)\n",
    "#type数字化\n",
    "typ = {'Claim': 0, \"Concluding Statement\": 1, \"Counterclaim\": 2, \"Evidence\": 3, \"Lead\": 4, \"Position\": 5, \"Rebuttal\": 6}\n",
    "test_df['type'] = test_df['type'].apply(lambda x: typ[x])\n",
    "\n",
    "#为了下面生成train、valid、test的代码可以写到一起，对test也设计ef列\n",
    "test_df['ef'] = [0] * len(test_df)\n",
    "\n",
    "test_df['word_count'] = test_df['text'].apply(\n",
    "    lambda x: len(list(filter(None, re.split(r\"[\\n|\\s|,|!|.|?]\", x))))\n",
    ")\n",
    "\n",
    "test_df.to_csv(os.path.join(assist_dir, \"test.csv\"), index=None)\n"
   ]
  },
  {
   "cell_type": "code",
   "execution_count": 4,
   "metadata": {},
   "outputs": [
    {
     "data": {
      "text/plain": "<Figure size 640x480 with 4 Axes>",
      "image/png": "[encoded data removed]"
     },
     "metadata": {},
     "output_type": "display_data"
    }
   ],
   "source": [
    "plt.subplot(321)\n",
    "plt.hist(x=list(train_df1['word_count']), bins=80)\n",
    "\n",
    "plt.subplot(322)\n",
    "plt.hist(x=list(train_df1[train_df1['word_count'] <= 200]['word_count']), bins=20)\n",
    "\n",
    "plt.subplot(323)\n",
    "plt.bar(x=[0, 1], height=[len(train_df1[train_df1['word_count'] <= word_count]),\n",
    "                          len(train_df1[train_df1['word_count'] > word_count])])\n",
    "\n",
    "plt.subplot(324)\n",
    "plt.bar(x=[0, 1], height=[len(train_df1[train_df1['word_count'] <= max_word_count]),\n",
    "                          len(train_df1[train_df1['word_count'] > max_word_count])])\n",
    "\n",
    "plt.show()"
   ]
  },
  {
   "cell_type": "code",
   "execution_count": 5,
   "metadata": {},
   "outputs": [
    {
     "data": {
      "text/plain": "         word_count\ncount  36765.000000\nmean      45.841480\nstd       46.842673\nmin        2.000000\n25%       17.000000\n50%       29.000000\n75%       58.000000\nmax      837.000000",
      "text/html": "<div>\n<style scoped>\n    .dataframe tbody tr th:only-of-type {\n        vertical-align: middle;\n    }\n\n    .dataframe tbody tr th {\n        vertical-align: top;\n    }\n\n    .dataframe thead th {\n        text-align: right;\n    }\n</style>\n<table border=\"1\" class=\"dataframe\">\n  <thead>\n    <tr style=\"text-align: right;\">\n      <th></th>\n      <th>word_count</th>\n    </tr>\n  </thead>\n  <tbody>\n    <tr>\n      <th>count</th>\n      <td>36765.000000</td>\n    </tr>\n    <tr>\n      <th>mean</th>\n      <td>45.841480</td>\n    </tr>\n    <tr>\n      <th>std</th>\n      <td>46.842673</td>\n    </tr>\n    <tr>\n      <th>min</th>\n      <td>2.000000</td>\n    </tr>\n    <tr>\n      <th>25%</th>\n      <td>17.000000</td>\n    </tr>\n    <tr>\n      <th>50%</th>\n      <td>29.000000</td>\n    </tr>\n    <tr>\n      <th>75%</th>\n      <td>58.000000</td>\n    </tr>\n    <tr>\n      <th>max</th>\n      <td>837.000000</td>\n    </tr>\n  </tbody>\n</table>\n</div>"
     },
     "execution_count": 5,
     "metadata": {},
     "output_type": "execute_result"
    }
   ],
   "source": [
    "train_df1[['word_count']].describe()"
   ]
  },
  {
   "attachments": {},
   "cell_type": "markdown",
   "metadata": {},
   "source": [
    "### 优化版\n",
    "\n",
    "数据好像没什么变化？"
   ]
  },
  {
   "cell_type": "code",
   "execution_count": 6,
   "metadata": {},
   "outputs": [],
   "source": [
    "#只有训练集进行太长截断取首尾\n",
    "\n",
    "#列重命名\n",
    "train_df1 = pd.read_csv(os.path.join(data_dir, \"train.csv\"))\n",
    "needed_col = ['essay_id', 'discourse_text', 'discourse_type', 'discourse_effectiveness']\n",
    "train_df1 = train_df1[needed_col]\n",
    "train_df1.columns = ['id', 'text', 'type', 'ef']\n",
    "\n",
    "#type加到text首\n",
    "train_df1['text'] = train_df1[['text', 'type']].apply(\n",
    "    lambda x: x[1] + \".\" + x[0] if x[1] == \"Concluding Statement\" else \"Conclusion.\" + x[0], axis=1)\n",
    "\n",
    "#type数字化\n",
    "typ = {'Claim': 0, \"Concluding Statement\": 1, \"Counterclaim\": 2, \"Evidence\": 3, \"Lead\": 4, \"Position\": 5, \"Rebuttal\": 6}\n",
    "train_df1['type'] = train_df1['type'].apply(lambda x: typ[x])\n",
    "#ef数字化\n",
    "eff = {'Adequate': 0, 'Ineffective': 1, 'Effective': 2}\n",
    "train_df1['ef'] = train_df1['ef'].apply(lambda x: eff[x])\n",
    "\n",
    "#验证集的text保存原样\n",
    "train_df1['word_count'] = train_df1['text'].apply(\n",
    "    lambda x: len(list(filter(None, re.split(r\"[\\n|\\s|,|!|.|?]\", x))))\n",
    ")\n",
    "\n",
    "#划分\n",
    "train_df1['fold'] = [-1] * len(train_df1)\n",
    "skf = StratifiedKFold(n_splits=5, shuffle=True)\n",
    "for i, (train_i, valid_i) in enumerate(skf.split(train_df1, train_df1['type'])):\n",
    "    train_df1.loc[valid_i, 'fold'] = i + 1\n",
    "train_df = train_df1[train_df1['fold'] != 1]\n",
    "train_df = train_df.drop(labels=['fold'], axis=1)\n",
    "valid_df = train_df1[train_df1['fold'] == 1]\n",
    "valid_df = valid_df.drop(labels=['fold'], axis=1)\n",
    "\n",
    "valid_df.to_csv(os.path.join(assist_dir, \"valid1.csv\"), index=None)\n",
    "\n",
    "\n",
    "#对训练集再单独处理\n",
    "def f(x):\n",
    "    #句子太长优先取首尾\n",
    "    text = x['text']\n",
    "    sp_word = r\"[\\n|\\s|,|?|!|.]\"\n",
    "    sp_sentence = r\"[\\n|?|!|.]\"  #不以,划分\n",
    "\n",
    "    L = len(list(filter(None, re.split(sp_word, text))))\n",
    "    if L > max_word_count:\n",
    "        sentences = list(filter(None, re.split(sp_sentence, text)))\n",
    "\n",
    "        if len(sentences) == 1:\n",
    "            return text\n",
    "\n",
    "        res = sentences[0] + \".\" + sentences[1] + \".\" + sentences[-1] + \".\"\n",
    "\n",
    "        i = 2\n",
    "        while len(list(filter(None, re.split(sp_word, res)))) < word_count:\n",
    "            if i == len(sentences) - 1:\n",
    "                break\n",
    "            res += sentences[i] + \".\"\n",
    "\n",
    "            i += 1\n",
    "        return res\n",
    "\n",
    "    else:\n",
    "        return text\n",
    "\n",
    "\n",
    "train_df['text'] = train_df[['text']].apply(f, axis=1)\n",
    "train_df['word_count'] = train_df['text'].apply(\n",
    "    lambda x: len(list(filter(None, re.split(r\"[\\n|\\s|,|!|.|?]\", x))))\n",
    ")\n",
    "train_df.to_csv(os.path.join(assist_dir, \"train1.csv\"), index=None)\n",
    "\n",
    "#测试集也不用截断\n",
    "test_df = pd.read_csv(os.path.join(data_dir, \"test.csv\"))\n",
    "needed_col = ['essay_id', 'discourse_text', 'discourse_type']\n",
    "test_df = test_df[needed_col]\n",
    "test_df.columns = ['id', 'text', 'type']\n",
    "\n",
    "test_df['text'] = test_df[['text', 'type']].apply(\n",
    "    lambda x: x[1] + \".\" + x[0] if x[1] == \"Concluding Statement\" else \"Conclusion.\" + x[0], axis=1)\n",
    "\n",
    "#type数字化\n",
    "typ = {'Claim': 0, \"Concluding Statement\": 1, \"Counterclaim\": 2, \"Evidence\": 3, \"Lead\": 4, \"Position\": 5, \"Rebuttal\": 6}\n",
    "test_df['type'] = test_df['type'].apply(lambda x: typ[x])\n",
    "\n",
    "#为了下面生成train、valid、test的代码可以写到一起，对test也设计ef列\n",
    "test_df['ef'] = [0] * len(test_df)\n",
    "\n",
    "test_df['word_count'] = test_df['text'].apply(\n",
    "    lambda x: len(list(filter(None, re.split(r\"[\\n|\\s|,|!|.|?]\", x))))\n",
    ")\n",
    "\n",
    "test_df.to_csv(os.path.join(assist_dir, \"test1.csv\"), index=None)"
   ]
  },
  {
   "cell_type": "code",
   "execution_count": 7,
   "metadata": {},
   "outputs": [
    {
     "data": {
      "text/plain": "         word_count\ncount  36765.000000\nmean      45.841480\nstd       46.842673\nmin        2.000000\n25%       17.000000\n50%       29.000000\n75%       58.000000\nmax      837.000000",
      "text/html": "<div>\n<style scoped>\n    .dataframe tbody tr th:only-of-type {\n        vertical-align: middle;\n    }\n\n    .dataframe tbody tr th {\n        vertical-align: top;\n    }\n\n    .dataframe thead th {\n        text-align: right;\n    }\n</style>\n<table border=\"1\" class=\"dataframe\">\n  <thead>\n    <tr style=\"text-align: right;\">\n      <th></th>\n      <th>word_count</th>\n    </tr>\n  </thead>\n  <tbody>\n    <tr>\n      <th>count</th>\n      <td>36765.000000</td>\n    </tr>\n    <tr>\n      <th>mean</th>\n      <td>45.841480</td>\n    </tr>\n    <tr>\n      <th>std</th>\n      <td>46.842673</td>\n    </tr>\n    <tr>\n      <th>min</th>\n      <td>2.000000</td>\n    </tr>\n    <tr>\n      <th>25%</th>\n      <td>17.000000</td>\n    </tr>\n    <tr>\n      <th>50%</th>\n      <td>29.000000</td>\n    </tr>\n    <tr>\n      <th>75%</th>\n      <td>58.000000</td>\n    </tr>\n    <tr>\n      <th>max</th>\n      <td>837.000000</td>\n    </tr>\n  </tbody>\n</table>\n</div>"
     },
     "execution_count": 7,
     "metadata": {},
     "output_type": "execute_result"
    }
   ],
   "source": [
    "train_df1[['word_count']].describe()"
   ]
  },
  {
   "cell_type": "code",
   "execution_count": 8,
   "metadata": {},
   "outputs": [
    {
     "data": {
      "text/plain": "<Figure size 640x480 with 4 Axes>",
      "image/png": "[encoded data removed]"
     },
     "metadata": {},
     "output_type": "display_data"
    }
   ],
   "source": [
    "plt.subplot(321)\n",
    "plt.hist(x=list(train_df1['word_count']), bins=80)\n",
    "\n",
    "plt.subplot(322)\n",
    "plt.hist(x=list(train_df1[train_df1['word_count'] <= 200]['word_count']), bins=20)\n",
    "\n",
    "plt.subplot(323)\n",
    "plt.bar(x=[0, 1], height=[len(train_df1[train_df1['word_count'] <= word_count]),\n",
    "                          len(train_df1[train_df1['word_count'] > word_count])])\n",
    "\n",
    "plt.subplot(324)\n",
    "plt.bar(x=[0, 1], height=[len(train_df1[train_df1['word_count'] <= max_word_count]),\n",
    "                          len(train_df1[train_df1['word_count'] > max_word_count])])\n",
    "\n",
    "plt.show()"
   ]
  },
  {
   "attachments": {},
   "cell_type": "markdown",
   "metadata": {},
   "source": [
    "## iter"
   ]
  },
  {
   "cell_type": "code",
   "execution_count": 9,
   "metadata": {},
   "outputs": [
    {
     "name": "stdout",
     "output_type": "stream",
     "text": [
      "460 58 1\n"
     ]
    }
   ],
   "source": [
    "train_df = pd.read_csv(os.path.join(assist_dir, \"train.csv\"))\n",
    "valid_df = pd.read_csv(os.path.join(assist_dir, \"valid.csv\"))\n",
    "test_df = pd.read_csv(os.path.join(assist_dir, \"test.csv\"))\n",
    "\n",
    "# 词处理\n",
    "with open(stop_words_file, 'r') as f:\n",
    "    stop_words = [i.split(\"\\n\")[0] for i in f.readlines()]\n",
    "text_field = data.Field(\n",
    "    sequential=True,\n",
    "    tokenize='spacy',\n",
    "    tokenizer_language=\"en_core_web_sm\",\n",
    "    lower=True,\n",
    "    batch_first=True,\n",
    "    fix_length=word_count,\n",
    "    stop_words=stop_words\n",
    ")\n",
    "label_field = data.Field(sequential=False, use_vocab=False)  #已经是数字，所以use_vocab=False\n",
    "\n",
    "#就是这里，需要它们的fields都为这个\n",
    "fields = [('id', None), ('text', text_field), ('type', label_field), ('ef', label_field), ('wordcount', label_field)]\n",
    "\n",
    "train_ds, valid_ds, test_ds = data.TabularDataset.splits(\n",
    "    path=assist_dir, format='csv',\n",
    "    train='train.csv', validation='valid.csv', test='test.csv',\n",
    "    fields=fields,\n",
    "    skip_header=True\n",
    ")\n",
    "\n",
    "text_field.build_vocab(\n",
    "    train_ds, valid_ds, test_ds,\n",
    "    vectors='glove.6B.50d',\n",
    "    vectors_cache=word_vector_dir\n",
    ")\n",
    "label_field.build_vocab(train_ds, valid_ds, test_ds)\n",
    "\n",
    "'''\n",
    "for w,i in text_field.vocab.stoi.items():#词和相应index\n",
    "    print(w,i)\n",
    "print(text_field.vocab.vectors.shape)#[29278, 100]\n",
    "'''\n",
    "\n",
    "train_iter, valid_iter, test_iter = torchtext.legacy.data.BucketIterator.splits(  #长度相似的会放同一批\n",
    "    (train_ds, valid_ds, test_ds),\n",
    "    batch_sizes=(train_batch_size, valid_batch_size, test_batch_size),  #一样的话就是batch_size\n",
    "    sort=True,\n",
    "    sort_within_batch=True,\n",
    "    sort_key=lambda x: int(x.wordcount),\n",
    "    device=device\n",
    ")\n",
    "\n",
    "print(len(train_iter), len(valid_iter), len(test_iter))"
   ]
  },
  {
   "cell_type": "code",
   "execution_count": 16,
   "outputs": [
    {
     "name": "stdout",
     "output_type": "stream",
     "text": [
      "<pad> 1\n",
      ". 2\n",
      ", 3\n",
      "conclusion 4\n",
      "understand 129\n",
      "; 130\n",
      "chance 131\n",
      "extracurricular 132\n",
      "country 133\n",
      "taking 134\n",
      "big 135\n",
      "'re 136\n",
      "paragraph 137\n",
      "wrong 138\n",
      "classroom 139\n",
      "torch.Size([29751, 50])\n"
     ]
    }
   ],
   "source": [
    "ii = 0\n",
    "for w, i in text_field.vocab.stoi.items():  #词和相应index\n",
    "    if 128 < ii < 140 or 0 < ii < 5:\n",
    "        print(w, i)\n",
    "    ii += 1\n",
    "    if ii == 141:\n",
    "        break\n",
    "print(text_field.vocab.vectors.shape)  #[29278, 50],共29278个词，每个词50维"
   ],
   "metadata": {
    "collapsed": false,
    "pycharm": {
     "name": "#%%\n"
    }
   }
  },
  {
   "cell_type": "code",
   "execution_count": 18,
   "outputs": [
    {
     "name": "stdout",
     "output_type": "stream",
     "text": [
      "['text', 'type', 'ef', 'wordcount']\n"
     ]
    }
   ],
   "source": [
    "for i in train_iter:\n",
    "    print(i.input_fields)\n",
    "    break"
   ],
   "metadata": {
    "collapsed": false,
    "pycharm": {
     "name": "#%%\n"
    }
   }
  },
  {
   "attachments": {},
   "cell_type": "markdown",
   "metadata": {},
   "source": [
    "## model"
   ]
  },
  {
   "cell_type": "code",
   "execution_count": 5,
   "metadata": {},
   "outputs": [],
   "source": [
    "#model参数\n",
    "\n",
    "#embedding层\n",
    "embedding_shape = text_field.vocab.vectors.shape\n",
    "embedding_weight = text_field.vocab.vectors\n",
    "\n",
    "#lstm层\n",
    "hidden_size = 2\n",
    "num_layers = 1  #不太清楚设置成其他值怎么弄，下面的代码主要针对为1情况\n",
    "bidirectional = False  #是否双向lstm，双向的forward可能要变，初步考虑如下"
   ]
  },
  {
   "cell_type": "code",
   "execution_count": 12,
   "metadata": {},
   "outputs": [],
   "source": [
    "class MyModel(nn.Module):\n",
    "    def __init__(self):\n",
    "        super(MyModel, self).__init__()\n",
    "\n",
    "        self.embedding = nn.Embedding(*embedding_shape)\n",
    "        self.embedding.weight.data.copy_(embedding_weight)  #不能直接用=\n",
    "\n",
    "        self.lstm = nn.LSTM(\n",
    "            input_size=text_field.vocab.vectors.shape[1],\n",
    "            batch_first=True,\n",
    "\n",
    "            hidden_size=hidden_size,\n",
    "            num_layers=num_layers,\n",
    "            bidirectional=bidirectional\n",
    "        )\n",
    "\n",
    "        self.classifier = nn.Sequential(\n",
    "            nn.Linear(hidden_size, hidden_size),\n",
    "            nn.Linear(hidden_size, 3),\n",
    "            nn.Softmax(dim=-1)\n",
    "        )\n",
    "\n",
    "    def __initHC__(self, batch_size):\n",
    "        self.H = torch.zeros([num_layers, batch_size, hidden_size])\n",
    "        self.C = torch.zeros([num_layers, batch_size, hidden_size])\n",
    "\n",
    "    def forward(self, x):\n",
    "        with torch.no_grad():\n",
    "            x = self.embedding(x)\n",
    "\n",
    "        #self.__initHC__(batch_size = x.shape[0])\n",
    "        #x, (outH,outC) = self.lstm(x,(self.H,self.C))\n",
    "        x, (outH, outC) = self.lstm(x)\n",
    "\n",
    "        \"\"\"\n",
    "        if bidirectional:#不一定是这样\n",
    "            out = self.classifier(x[:,[-1],:] + x[:,[0],:])\n",
    "        else:\n",
    "            out = self.classifier(x[:,[-1],:])\n",
    "        \"\"\"\n",
    "        if bidirectional:  #不一定是这样\n",
    "            out = self.classifier(outH[0] + outH[0])\n",
    "        else:\n",
    "            out = self.classifier(outH[0])\n",
    "\n",
    "        return out\n",
    "\n",
    "\n",
    "model = MyModel()"
   ]
  },
  {
   "cell_type": "code",
   "execution_count": 21,
   "metadata": {},
   "outputs": [],
   "source": [
    "a = next(model.embedding.parameters()).clone()"
   ]
  },
  {
   "cell_type": "code",
   "execution_count": 25,
   "metadata": {},
   "outputs": [
    {
     "name": "stdout",
     "output_type": "stream",
     "text": [
      "tensor([[ 0.0000,  0.0000,  0.0000,  ...,  0.0000,  0.0000,  0.0000],\n",
      "        [ 0.0000,  0.0000,  0.0000,  ...,  0.0000,  0.0000,  0.0000],\n",
      "        [-0.3398,  0.2094,  0.4635,  ..., -0.2339,  0.4730, -0.0288],\n",
      "        ...,\n",
      "        [ 0.0000,  0.0000,  0.0000,  ...,  0.0000,  0.0000,  0.0000],\n",
      "        [ 0.0000,  0.0000,  0.0000,  ...,  0.0000,  0.0000,  0.0000],\n",
      "        [ 0.0000,  0.0000,  0.0000,  ...,  0.0000,  0.0000,  0.0000]],\n",
      "       grad_fn=<CloneBackward>)\n"
     ]
    }
   ],
   "source": [
    "print(a)"
   ]
  },
  {
   "cell_type": "code",
   "execution_count": 13,
   "metadata": {},
   "outputs": [
    {
     "data": {
      "text/plain": [
       "tensor([[0.3839, 0.3119, 0.3042],\n",
       "        [0.3839, 0.3119, 0.3042],\n",
       "        [0.3839, 0.3119, 0.3042],\n",
       "        [0.3839, 0.3119, 0.3042],\n",
       "        [0.3839, 0.3119, 0.3042],\n",
       "        [0.3839, 0.3119, 0.3042],\n",
       "        [0.3839, 0.3119, 0.3042],\n",
       "        [0.3839, 0.3119, 0.3042],\n",
       "        [0.3839, 0.3119, 0.3042],\n",
       "        [0.3839, 0.3119, 0.3042],\n",
       "        [0.3839, 0.3119, 0.3042],\n",
       "        [0.3839, 0.3119, 0.3042],\n",
       "        [0.3839, 0.3119, 0.3042],\n",
       "        [0.3839, 0.3119, 0.3042],\n",
       "        [0.3839, 0.3119, 0.3042],\n",
       "        [0.3839, 0.3119, 0.3042],\n",
       "        [0.3839, 0.3119, 0.3042],\n",
       "        [0.3839, 0.3119, 0.3042],\n",
       "        [0.3839, 0.3119, 0.3042],\n",
       "        [0.3839, 0.3119, 0.3042],\n",
       "        [0.3839, 0.3119, 0.3042],\n",
       "        [0.3839, 0.3119, 0.3042],\n",
       "        [0.3839, 0.3119, 0.3042],\n",
       "        [0.3839, 0.3119, 0.3042],\n",
       "        [0.3839, 0.3119, 0.3042],\n",
       "        [0.3839, 0.3119, 0.3042],\n",
       "        [0.3839, 0.3119, 0.3042],\n",
       "        [0.3839, 0.3119, 0.3042],\n",
       "        [0.3839, 0.3119, 0.3042],\n",
       "        [0.3839, 0.3119, 0.3042],\n",
       "        [0.3839, 0.3119, 0.3042],\n",
       "        [0.3839, 0.3119, 0.3042],\n",
       "        [0.3839, 0.3119, 0.3042],\n",
       "        [0.3839, 0.3119, 0.3042],\n",
       "        [0.3839, 0.3119, 0.3042],\n",
       "        [0.3839, 0.3119, 0.3042],\n",
       "        [0.3839, 0.3119, 0.3042],\n",
       "        [0.3839, 0.3119, 0.3042],\n",
       "        [0.3839, 0.3119, 0.3042],\n",
       "        [0.3839, 0.3119, 0.3042],\n",
       "        [0.3839, 0.3119, 0.3042],\n",
       "        [0.3839, 0.3119, 0.3042],\n",
       "        [0.3839, 0.3119, 0.3042],\n",
       "        [0.3839, 0.3119, 0.3042],\n",
       "        [0.3839, 0.3119, 0.3042],\n",
       "        [0.3839, 0.3119, 0.3042],\n",
       "        [0.3839, 0.3119, 0.3042],\n",
       "        [0.3839, 0.3119, 0.3042],\n",
       "        [0.3839, 0.3119, 0.3042],\n",
       "        [0.3839, 0.3119, 0.3042],\n",
       "        [0.3839, 0.3119, 0.3042],\n",
       "        [0.3839, 0.3119, 0.3042],\n",
       "        [0.3839, 0.3119, 0.3042],\n",
       "        [0.3839, 0.3119, 0.3042],\n",
       "        [0.3839, 0.3119, 0.3042],\n",
       "        [0.3839, 0.3119, 0.3042],\n",
       "        [0.3839, 0.3119, 0.3042],\n",
       "        [0.3839, 0.3119, 0.3042],\n",
       "        [0.3839, 0.3119, 0.3042],\n",
       "        [0.3839, 0.3119, 0.3042],\n",
       "        [0.3839, 0.3119, 0.3042],\n",
       "        [0.3839, 0.3119, 0.3042],\n",
       "        [0.3839, 0.3119, 0.3042],\n",
       "        [0.3839, 0.3119, 0.3042]], grad_fn=<SoftmaxBackward>)"
      ]
     },
     "execution_count": 13,
     "metadata": {},
     "output_type": "execute_result"
    }
   ],
   "source": [
    "model.to(device)\n",
    "\n",
    "model(list(train_iter)[0].text)"
   ]
  },
  {
   "cell_type": "markdown",
   "metadata": {},
   "source": [
    "## loss等 "
   ]
  },
  {
   "cell_type": "code",
   "execution_count": 10,
   "metadata": {},
   "outputs": [],
   "source": [
    "loss_func = nn.CrossEntropyLoss()\n",
    "#loss_func(pred_y,y)\n",
    "\n",
    "optimizer = optim.Adam(model.parameters(), lr=0.002)\n",
    "scheduler = optim.lr_scheduler.CosineAnnealingLR(\n",
    "    optimizer,\n",
    "    T_max=len(train_iter) * epochs + 10,\n",
    "    eta_min=1e-6\n",
    ")  #整个训练过程完成max->min"
   ]
  },
  {
   "attachments": {},
   "cell_type": "markdown",
   "metadata": {},
   "source": [
    "## run"
   ]
  },
  {
   "cell_type": "code",
   "execution_count": null,
   "metadata": {},
   "outputs": [],
   "source": [
    "class Runner():\n",
    "    \"\"\"基本设置\"\"\"\n",
    "\n",
    "    def __init__(self):\n",
    "        self.__pre_proc()\n",
    "\n",
    "    def __pre_proc(self):\n",
    "        model.to(device)\n",
    "\n",
    "        self.__init_loss()\n",
    "\n",
    "    def __init_loss(self):\n",
    "        self.train_loss = []\n",
    "        self.valid_loss = []\n",
    "\n",
    "    def get_loss(self, kind):\n",
    "        if kind == 'train':\n",
    "            return self.train_loss\n",
    "        elif kind == 'valid':\n",
    "            return self.valid_loss\n",
    "        else:\n",
    "            raise ValueError(\"kind值错误\")\n",
    "\n",
    "    def __save_model(self, epoch):\n",
    "        path = exp_dir + f\"/epoch_{epoch}_params.pkl\"\n",
    "        model_params = model.state_dict()\n",
    "        torch.save(model_params, path)\n",
    "\n",
    "    def set_model(self, epoch):\n",
    "        \"\"\"\n",
    "        从文件读出参数\n",
    "\n",
    "        Args:\n",
    "            epoch: 第几轮的参数\n",
    "        \"\"\"\n",
    "        path = exp_dir + f\"/epoch_{epoch}_params.pkl\"\n",
    "        model_params = torch.load(path)\n",
    "        model.load_state_dict(model_params)\n",
    "\n",
    "    \"\"\"训练相关\"\"\"\n",
    "\n",
    "    def train(self):\n",
    "        self.__init_loss()\n",
    "        for epoch in range(epochs):\n",
    "            self.train_one_epoch(epoch)\n",
    "            self.valid_one_epoch(epoch)\n",
    "\n",
    "            #self.__smw_proc(epoch)\n",
    "\n",
    "    def train_one_epoch(self, epoch):\n",
    "        model.train()\n",
    "\n",
    "        scaler = amp.GradScaler()\n",
    "\n",
    "        epoch_loss = 0  #统计本epoch的总loss，最后求平均loss\n",
    "        data_size = 0\n",
    "        pbar = tqdm(enumerate(train_iter), total=len(train_iter), desc=f'epoch_{epoch} train')\n",
    "        for i, batch in pbar:\n",
    "            x = batch.text\n",
    "            y = batch.ef\n",
    "\n",
    "            with amp.autocast():\n",
    "                predy = model(x)\n",
    "                batch_loss = loss_func(predy.squeeze(1), y)\n",
    "            scaler.scale(batch_loss).backward()\n",
    "\n",
    "            if i % 1 == 0:\n",
    "                scaler.step(optimizer)  #1个batch更新一次参数\n",
    "                scaler.update()\n",
    "                optimizer.zero_grad()\n",
    "                if scheduler is not None:\n",
    "                    scheduler.step()  #同时更新lr\n",
    "\n",
    "            epoch_loss += float(batch_loss) * train_batch_size\n",
    "            data_size += train_batch_size\n",
    "\n",
    "            mem = torch.cuda.memory_reserved() / 1E9 if torch.cuda.is_available() else 0\n",
    "            current_lr = optimizer.param_groups[0]['lr']\n",
    "            pbar.set_postfix(\n",
    "                peoch_avg_loss=f'{epoch_loss / data_size:0.4f}',\n",
    "                lr=f'{current_lr:0.4f}',\n",
    "                gpu_mem=f'{mem:0.2f} GB'\n",
    "            )\n",
    "\n",
    "        torch.cuda.empty_cache()\n",
    "        gc.collect()\n",
    "\n",
    "        self.train_loss.append(epoch_loss / data_size)\n",
    "        self.__save_model(epoch)\n",
    "\n",
    "    @torch.no_grad()\n",
    "    def valid_one_epoch(self, epoch):\n",
    "        model.eval()\n",
    "\n",
    "        scaler = amp.GradScaler()\n",
    "\n",
    "        epoch_loss = 0  #统计本epoch的总loss，最后求平均loss\n",
    "        data_size = 0\n",
    "        pbar = tqdm(enumerate(valid_iter), total=len(valid_iter), desc=f'epoch_{epoch} valid')\n",
    "        for i, batch in pbar:\n",
    "            x = batch.text\n",
    "            y = batch.ef\n",
    "\n",
    "            with amp.autocast():\n",
    "                predy = model(x)\n",
    "                batch_loss = loss_func(predy.squeeze(1), y)\n",
    "\n",
    "            epoch_loss += float(batch_loss) * valid_batch_size\n",
    "            data_size += valid_batch_size\n",
    "\n",
    "            mem = torch.cuda.memory_reserved() / 1E9 if torch.cuda.is_available() else 0\n",
    "            pbar.set_postfix(\n",
    "                peoch_avg_loss=f'{epoch_loss / data_size:0.4f}',\n",
    "                gpu_mem=f'{mem:0.2f} GB'\n",
    "            )\n",
    "\n",
    "        torch.cuda.empty_cache()\n",
    "        gc.collect()\n",
    "\n",
    "        self.valid_loss.append(epoch_loss / data_size)\n",
    "\n",
    "    \"\"\"测试集\"\"\"\n",
    "\n",
    "    def test(self):\n",
    "        \"\"\"\n",
    "        返回预测结果和loss\n",
    "        \"\"\"\n",
    "\n",
    "        temp = []  #存储结果\n",
    "\n",
    "        model.eval()\n",
    "\n",
    "        scaler = amp.GradScaler()\n",
    "\n",
    "        cur_loss = 0\n",
    "        data_size = 0\n",
    "        pbar = tqdm(enumerate(test_iter), total=len(test_iter), desc='test')\n",
    "        for i, batch in pbar:\n",
    "            x = batch.text\n",
    "            y = batch.ef\n",
    "\n",
    "            with amp.autocast():\n",
    "                predy = model(x)\n",
    "                temp.append((predy.detach().cpu().numpy(), y.detach().cpu().numpy()))\n",
    "                batch_loss = loss_func(predy.squeeze(1), y)\n",
    "\n",
    "            cur_loss += float(batch_loss) * test_batch_size\n",
    "            data_size += test_batch_size\n",
    "\n",
    "            mem = torch.cuda.memory_reserved() / 1E9 if torch.cuda.is_available() else 0\n",
    "            pbar.set_postfix(\n",
    "                loss=f'{cur_loss / data_size:0.4f}',\n",
    "                gpu_mem=f'{mem:0.2f} GB'\n",
    "            )\n",
    "\n",
    "        torch.cuda.empty_cache()\n",
    "        gc.collect()\n",
    "\n",
    "        res = []\n",
    "        for predy, y in temp:\n",
    "            for i in range(predy.shape[0]):\n",
    "                res.append((list(predy[i]), list(y[i])))\n",
    "\n",
    "        return cur_loss / data_size, res\n",
    "\n",
    "    \"\"\"可视化结果\"\"\"\n",
    "\n",
    "    def __smw_proc(self, epoch):\n",
    "\n",
    "        pass\n",
    "\n",
    "        with SummaryWriter(exp_name) as smw:\n",
    "            smw.add_scalars(\n",
    "                main_tag='datas/loss',\n",
    "                tag_scalar_dict={\n",
    "                    \"train_loss\": self.train_loss[f\"epoch_{epoch}\"],\n",
    "                    \"valid_loss\": self.valid_loss[f\"epoch_{epoch}\"],\n",
    "                },\n",
    "                global_step=epoch\n",
    "            )\n",
    "            smw.add_scalar(\n",
    "                tag='datas/lr',\n",
    "                scalar_value=optimizer.param_groups[0]['lr'],\n",
    "                global_step=epoch\n",
    "            )\n",
    "\n",
    "            imgs, masks, pred_masks = self.__get_show_result('train', 2)\n",
    "            for i in range(imgs.shape[0]):\n",
    "                dis_imgs = np.stack([i for i in imgs[i]] + [i for i in masks[i]] + [i for i in pred_masks[i]], axis=0)\n",
    "                dis_imgs = dis_imgs[:, np.newaxis]\n",
    "                self.smw.add_images(\n",
    "                    tag=f\"epoch_{epoch}/train/{i}\",\n",
    "                    img_tensor=dis_imgs\n",
    "                )\n",
    "            imgs, masks, pred_masks = self.__get_show_result('valid', 2)\n",
    "            for i in range(imgs.shape[0]):\n",
    "                dis_imgs = np.stack([i for i in imgs[i]] + [i for i in masks[i]] + [i for i in pred_masks[i]], axis=0)\n",
    "                dis_imgs = dis_imgs[:, np.newaxis]\n",
    "                smw.add_images(\n",
    "                    tag=f\"epoch_{epoch}/valid/{i}\",\n",
    "                    img_tensor=dis_imgs\n",
    "                )\n",
    "\n",
    "\n",
    "runner = Runner()"
   ]
  },
  {
   "cell_type": "code",
   "execution_count": null,
   "metadata": {},
   "outputs": [],
   "source": [
    "runner.train()"
   ]
  },
  {
   "cell_type": "code",
   "execution_count": 11,
   "metadata": {},
   "outputs": [
    {
     "name": "stdout",
     "output_type": "stream",
     "text": [
      "tensor([[0.2034, 0.2028, 0.5938]], grad_fn=<SelectBackward>) tensor([0, 0, 2, 2, 0, 2, 2, 2, 0, 0, 0, 0, 0, 1, 0, 2, 1, 1, 1, 0, 1, 0, 2, 1,\n",
      "        0, 0, 0, 0, 1, 0, 0, 0, 0, 0, 1, 1, 0, 2, 2, 1, 0, 0, 2, 2, 2, 2, 1, 0,\n",
      "        1, 2, 2, 0, 0, 0, 0, 0, 0, 0, 2, 0, 1, 1, 0, 1])\n"
     ]
    }
   ],
   "source": [
    "model.to(device)\n",
    "model.eval()\n",
    "for batch in train_iter:\n",
    "    out = model(batch.text.to(device))\n",
    "    y = batch.ef\n",
    "    break\n",
    "print(out[0], y)"
   ]
  }
 ],
 "metadata": {
  "kernelspec": {
   "name": "python3",
   "language": "python",
   "display_name": "Python 3 (ipykernel)"
  },
  "language_info": {
   "codemirror_mode": {
    "name": "ipython",
    "version": 3
   },
   "file_extension": ".py",
   "mimetype": "text/x-python",
   "name": "python",
   "nbconvert_exporter": "python",
   "pygments_lexer": "ipython3",
   "version": "3.9.13 (main, Aug 25 2022, 23:51:50) [MSC v.1916 64 bit (AMD64)]"
  },
  "orig_nbformat": 4,
  "vscode": {
   "interpreter": {
    "hash": "0747f93ff6db21b2db2bf35ad4858dd0825b9c21797c41b4cc32097944ab3f10"
   }
  }
 },
 "nbformat": 4,
 "nbformat_minor": 2
}