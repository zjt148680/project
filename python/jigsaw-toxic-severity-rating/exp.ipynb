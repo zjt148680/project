{
 "cells": [
  {
   "cell_type": "code",
   "execution_count": 1,
   "metadata": {},
   "outputs": [],
   "source": [
    "import numpy as np\n",
    "import pandas as pd\n",
    "\n",
    "import os"
   ]
  },
  {
   "cell_type": "markdown",
   "metadata": {},
   "source": [
    "# 基本介绍"
   ]
  },
  {
   "cell_type": "code",
   "execution_count": 5,
   "metadata": {},
   "outputs": [
    {
     "name": "stdout",
     "output_type": "stream",
     "text": [
      "['comments_to_score.csv', 'leaderboard.csv', 'sample_submission.csv', 'validation_data.csv']\n"
     ]
    }
   ],
   "source": [
    "data_dir = \"E:/DATA/jigsaw-toxic-severity-rating/\"\n",
    "for root,dirs,files in os.walk(data_dir):\n",
    "    print(files)"
   ]
  },
  {
   "cell_type": "code",
   "execution_count": 28,
   "metadata": {},
   "outputs": [
    {
     "name": "stdout",
     "output_type": "stream",
     "text": [
      "   comment_id                                               text\n",
      "0      114890  \"\\n \\n\\nGjalexei, you asked about whether ther...\n",
      "1      732895  Looks like be have an abuser , can you please ...\n",
      "2     1139051  I confess to having complete (and apparently b...\n",
      "3     1434512  \"\\n\\nFreud's ideas are certainly much discusse...\n",
      "4     2084821  It is not just you. This is a laundry list of ...\n",
      "\"\n",
      " \n",
      "\n",
      "Gjalexei, you asked about whether there is an \"\"anti-editorializing\"\" policy here.  There is, and it's called wikipedia:neutral point of view.  It discusses at some length  the case of what we should do when writing about a subject which most of us find repugnant.  Whilst you're not likely to get too many defenders of FGM here, the need for the policy should be clearer for articles like abortion, for instance.\n",
      "\n",
      "If something you write is edited and you're not sure why, please continue to question such edits on the talk page.  Sometimes, you'll learn more about wikipedia policy.  Sometimes, you'll find out that some other people working on here can get it flat-out wrong ) Robert Merkel\"\n",
      "--------------------\n",
      "Looks like be have an abuser , can you please look into this?  thanks.\n"
     ]
    }
   ],
   "source": [
    "#各评论\n",
    "df1 = pd.read_csv(data_dir+'comments_to_score.csv')\n",
    "print(df1.head())\n",
    "print(df1.iloc[0]['text'])\n",
    "print(\"--------------------\")\n",
    "print(df1.iloc[1]['text'])"
   ]
  },
  {
   "cell_type": "code",
   "execution_count": 13,
   "metadata": {},
   "outputs": [
    {
     "name": "stdout",
     "output_type": "stream",
     "text": [
      "   rater_id  left_comment_id  right_comment_id    usage\n",
      "0         0          4476405         379307761  Private\n",
      "1         0         34922573         220819130  Private\n",
      "2         0        437106441         202854670  Private\n",
      "3         0        243981155         226519869  Private\n",
      "4         0        437106441         434768837  Private\n",
      "        rater_id  left_comment_id  right_comment_id    usage\n",
      "204125      4567         22872304         119967809  Private\n",
      "204126      4567        456050936         385494450  Private\n",
      "204127      4567        353739534         282396029  Private\n",
      "204128      4567        177970081         194077840  Private\n",
      "204129      4567        128631067          46788778  Private\n"
     ]
    }
   ],
   "source": [
    "#好像没啥用\n",
    "df2 = pd.read_csv(data_dir+'leaderboard.csv')\n",
    "print(df2.head())\n",
    "print(df2.tail())"
   ]
  },
  {
   "cell_type": "code",
   "execution_count": 14,
   "metadata": {},
   "outputs": [
    {
     "name": "stdout",
     "output_type": "stream",
     "text": [
      "   comment_id  score\n",
      "0      114890    0.5\n",
      "1      732895    0.5\n",
      "2     1139051    0.5\n",
      "3     1434512    0.5\n",
      "4     2084821    0.5\n"
     ]
    }
   ],
   "source": [
    "#提交格式\n",
    "df3 = pd.read_csv(data_dir+'sample_submission.csv')\n",
    "print(df3.head())"
   ]
  },
  {
   "cell_type": "code",
   "execution_count": 30,
   "metadata": {},
   "outputs": [
    {
     "name": "stdout",
     "output_type": "stream",
     "text": [
      "   worker                                         less_toxic  \\\n",
      "0     313            This article sucks \\n\\nwoo woo wooooooo   \n",
      "1     188  \"And yes, people should recognize that but the...   \n",
      "2      82   Western Media?\\n\\nYup, because every crime in...   \n",
      "3     347  And you removed it! You numbskull! I don't car...   \n",
      "4     539   smelly vagina \\n\\nBluerasberry why don't you ...   \n",
      "\n",
      "                                          more_toxic  \n",
      "0  WHAT!!!!!!!!?!?!!?!?!!?!?!?!?!!!!!!!!!!!!!!!!!...  \n",
      "1   Daphne Guinness \\n\\nTop of the mornin' my fav...  \n",
      "2  \"Atom you don't believe actual photos of mastu...  \n",
      "3  You seem to have sand in your vagina.\\n\\nMight...  \n",
      "4           hey \\n\\nway to support nazis, you racist  \n",
      " This article sucks \n",
      "\n",
      "woo woo wooooooo \n",
      "---------\n",
      " WHAT!!!!!!!!?!?!!?!?!!?!?!?!?!!!!!!!!!!!!!!!!!!!!!!!!??????????????????????????????????????????????????????!!!!!!=\n",
      "WHER IS YOUR SEXY PIC GONE FROM YOUR MAIN PAGE???????? put it back\n"
     ]
    }
   ],
   "source": [
    "#每人对两条评论的区分，不明显则是随机选择的\n",
    "#这里的评论包含上面没有的评论\n",
    "df4 = pd.read_csv(data_dir+'validation_data.csv')\n",
    "print(df4.head())\n",
    "\n",
    "print(df4.iloc[0]['less_toxic'],\"\\n---------\\n\",df4.iloc[0]['more_toxic'])"
   ]
  },
  {
   "cell_type": "code",
   "execution_count": null,
   "metadata": {},
   "outputs": [],
   "source": []
  }
 ],
 "metadata": {
  "kernelspec": {
   "display_name": "Python 3.9.13 ('pytorch')",
   "language": "python",
   "name": "python3"
  },
  "language_info": {
   "codemirror_mode": {
    "name": "ipython",
    "version": 3
   },
   "file_extension": ".py",
   "mimetype": "text/x-python",
   "name": "python",
   "nbconvert_exporter": "python",
   "pygments_lexer": "ipython3",
   "version": "3.9.13"
  },
  "orig_nbformat": 4,
  "vscode": {
   "interpreter": {
    "hash": "0747f93ff6db21b2db2bf35ad4858dd0825b9c21797c41b4cc32097944ab3f10"
   }
  }
 },
 "nbformat": 4,
 "nbformat_minor": 2
}
